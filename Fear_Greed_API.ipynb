{
  "cells": [
    {
      "cell_type": "markdown",
      "metadata": {
        "id": "qG-UcWigSbiv"
      },
      "source": [
        "# Query Information from API"
      ]
    },
    {
      "cell_type": "code",
      "execution_count": 3,
      "metadata": {},
      "outputs": [],
      "source": [
        "import numpy as np"
      ]
    },
    {
      "cell_type": "code",
      "execution_count": 4,
      "metadata": {
        "id": "5rnagGlKS6je"
      },
      "outputs": [],
      "source": [
        "# Retrieve date and price from \"Daily Transaction Data\" API\n",
        "from fetch_historical_data import *\n",
        "history_idx30_df = fetch_daily_data()"
      ]
    },
    {
      "cell_type": "code",
      "execution_count": 5,
      "metadata": {
        "colab": {
          "base_uri": "https://localhost:8080/"
        },
        "collapsed": true,
        "id": "ej0avlrVTLxS",
        "outputId": "265ac64d-60b2-4245-b0f6-d2ab6a6ce1c4"
      },
      "outputs": [
        {
          "data": {
            "text/html": [
              "<div>\n",
              "<style scoped>\n",
              "    .dataframe tbody tr th:only-of-type {\n",
              "        vertical-align: middle;\n",
              "    }\n",
              "\n",
              "    .dataframe tbody tr th {\n",
              "        vertical-align: top;\n",
              "    }\n",
              "\n",
              "    .dataframe thead th {\n",
              "        text-align: right;\n",
              "    }\n",
              "</style>\n",
              "<table border=\"1\" class=\"dataframe\">\n",
              "  <thead>\n",
              "    <tr style=\"text-align: right;\">\n",
              "      <th></th>\n",
              "      <th>symbol</th>\n",
              "      <th>date</th>\n",
              "      <th>close</th>\n",
              "      <th>volume</th>\n",
              "      <th>market_cap</th>\n",
              "    </tr>\n",
              "  </thead>\n",
              "  <tbody>\n",
              "    <tr>\n",
              "      <th>0</th>\n",
              "      <td>BUKA.JK</td>\n",
              "      <td>2024-07-23</td>\n",
              "      <td>127</td>\n",
              "      <td>248044100</td>\n",
              "      <td>13094843580416</td>\n",
              "    </tr>\n",
              "    <tr>\n",
              "      <th>1</th>\n",
              "      <td>ARTO.JK</td>\n",
              "      <td>2024-07-23</td>\n",
              "      <td>2530</td>\n",
              "      <td>35056400</td>\n",
              "      <td>34707551027200</td>\n",
              "    </tr>\n",
              "    <tr>\n",
              "      <th>2</th>\n",
              "      <td>BBRI.JK</td>\n",
              "      <td>2024-07-23</td>\n",
              "      <td>4790</td>\n",
              "      <td>170919500</td>\n",
              "      <td>722288878026752</td>\n",
              "    </tr>\n",
              "    <tr>\n",
              "      <th>3</th>\n",
              "      <td>AKRA.JK</td>\n",
              "      <td>2024-07-23</td>\n",
              "      <td>1505</td>\n",
              "      <td>14435800</td>\n",
              "      <td>29704486649856</td>\n",
              "    </tr>\n",
              "    <tr>\n",
              "      <th>4</th>\n",
              "      <td>CPIN.JK</td>\n",
              "      <td>2024-07-23</td>\n",
              "      <td>5400</td>\n",
              "      <td>4151500</td>\n",
              "      <td>88549198135296</td>\n",
              "    </tr>\n",
              "    <tr>\n",
              "      <th>...</th>\n",
              "      <td>...</td>\n",
              "      <td>...</td>\n",
              "      <td>...</td>\n",
              "      <td>...</td>\n",
              "      <td>...</td>\n",
              "    </tr>\n",
              "    <tr>\n",
              "      <th>1907</th>\n",
              "      <td>INCO.JK</td>\n",
              "      <td>2024-10-21</td>\n",
              "      <td>4250</td>\n",
              "      <td>26332400</td>\n",
              "      <td>44794147504128</td>\n",
              "    </tr>\n",
              "    <tr>\n",
              "      <th>1908</th>\n",
              "      <td>KLBF.JK</td>\n",
              "      <td>2024-10-21</td>\n",
              "      <td>1660</td>\n",
              "      <td>28486500</td>\n",
              "      <td>76763715600384</td>\n",
              "    </tr>\n",
              "    <tr>\n",
              "      <th>1909</th>\n",
              "      <td>ANTM.JK</td>\n",
              "      <td>2024-10-21</td>\n",
              "      <td>1690</td>\n",
              "      <td>243375700</td>\n",
              "      <td>40612053123072</td>\n",
              "    </tr>\n",
              "    <tr>\n",
              "      <th>1910</th>\n",
              "      <td>INDF.JK</td>\n",
              "      <td>2024-10-21</td>\n",
              "      <td>7400</td>\n",
              "      <td>8431800</td>\n",
              "      <td>64975183806464</td>\n",
              "    </tr>\n",
              "    <tr>\n",
              "      <th>1911</th>\n",
              "      <td>CPIN.JK</td>\n",
              "      <td>2024-10-21</td>\n",
              "      <td>5050</td>\n",
              "      <td>5445000</td>\n",
              "      <td>82809897091072</td>\n",
              "    </tr>\n",
              "  </tbody>\n",
              "</table>\n",
              "<p>1912 rows × 5 columns</p>\n",
              "</div>"
            ],
            "text/plain": [
              "       symbol        date  close     volume       market_cap\n",
              "0     BUKA.JK  2024-07-23    127  248044100   13094843580416\n",
              "1     ARTO.JK  2024-07-23   2530   35056400   34707551027200\n",
              "2     BBRI.JK  2024-07-23   4790  170919500  722288878026752\n",
              "3     AKRA.JK  2024-07-23   1505   14435800   29704486649856\n",
              "4     CPIN.JK  2024-07-23   5400    4151500   88549198135296\n",
              "...       ...         ...    ...        ...              ...\n",
              "1907  INCO.JK  2024-10-21   4250   26332400   44794147504128\n",
              "1908  KLBF.JK  2024-10-21   1660   28486500   76763715600384\n",
              "1909  ANTM.JK  2024-10-21   1690  243375700   40612053123072\n",
              "1910  INDF.JK  2024-10-21   7400    8431800   64975183806464\n",
              "1911  CPIN.JK  2024-10-21   5050    5445000   82809897091072\n",
              "\n",
              "[1912 rows x 5 columns]"
            ]
          },
          "execution_count": 5,
          "metadata": {},
          "output_type": "execute_result"
        }
      ],
      "source": [
        "history_idx30_df"
      ]
    },
    {
      "cell_type": "code",
      "execution_count": 6,
      "metadata": {
        "colab": {
          "base_uri": "https://localhost:8080/"
        },
        "id": "smEkkuljT_mi",
        "outputId": "9e4729fa-196a-4fa4-f75d-6ee0c905487b"
      },
      "outputs": [
        {
          "name": "stdout",
          "output_type": "stream",
          "text": [
            "       symbol        date  close     volume       market_cap\n",
            "0     BUKA.JK  2024-07-23    127  248044100   13094843580416\n",
            "1     ARTO.JK  2024-07-23   2530   35056400   34707551027200\n",
            "2     BBRI.JK  2024-07-23   4790  170919500  722288878026752\n",
            "3     AKRA.JK  2024-07-23   1505   14435800   29704486649856\n",
            "4     CPIN.JK  2024-07-23   5400    4151500   88549198135296\n",
            "...       ...         ...    ...        ...              ...\n",
            "1907  INCO.JK  2024-10-21   4250   26332400   44794147504128\n",
            "1908  KLBF.JK  2024-10-21   1660   28486500   76763715600384\n",
            "1909  ANTM.JK  2024-10-21   1690  243375700   40612053123072\n",
            "1910  INDF.JK  2024-10-21   7400    8431800   64975183806464\n",
            "1911  CPIN.JK  2024-10-21   5050    5445000   82809897091072\n",
            "\n",
            "[1912 rows x 5 columns]\n"
          ]
        }
      ],
      "source": [
        "# Enforce in case any column needs conversion (e.g., 'close', 'volume', 'market_cap')\n",
        "history_idx30_df['close'] = pd.to_numeric(history_idx30_df['close'], errors='coerce')\n",
        "history_idx30_df['volume'] = pd.to_numeric(history_idx30_df['volume'], errors='coerce')\n",
        "history_idx30_df['market_cap'] = pd.to_numeric(history_idx30_df['market_cap'], errors='coerce')\n",
        "\n",
        "# Check for the first few rows to ensure everything is correct\n",
        "print(history_idx30_df)\n"
      ]
    },
    {
      "cell_type": "code",
      "execution_count": 7,
      "metadata": {
        "colab": {
          "base_uri": "https://localhost:8080/",
          "height": 1000
        },
        "collapsed": true,
        "id": "Yla14dvdXhbV",
        "outputId": "8f52e448-fd65-48a8-deb9-7353bf7f1b34"
      },
      "outputs": [
        {
          "data": {
            "text/plain": [
              "symbol\n",
              "ACES.JK    64\n",
              "ADRO.JK    64\n",
              "AKRA.JK    63\n",
              "AMRT.JK    64\n",
              "ANTM.JK    64\n",
              "ARTO.JK    63\n",
              "ASII.JK    64\n",
              "BBCA.JK    63\n",
              "BBNI.JK    64\n",
              "BBRI.JK    63\n",
              "BMRI.JK    63\n",
              "BRPT.JK    63\n",
              "BUKA.JK    63\n",
              "CPIN.JK    64\n",
              "GOTO.JK    63\n",
              "ICBP.JK    64\n",
              "INCO.JK    64\n",
              "INDF.JK    64\n",
              "INKP.JK    64\n",
              "ITMG.JK    64\n",
              "KLBF.JK    64\n",
              "MDKA.JK    64\n",
              "MEDC.JK    64\n",
              "PGAS.JK    64\n",
              "PGEO.JK    64\n",
              "PTBA.JK    64\n",
              "SMGR.JK    64\n",
              "TLKM.JK    64\n",
              "UNTR.JK    64\n",
              "UNVR.JK    64\n",
              "Name: date, dtype: int64"
            ]
          },
          "execution_count": 7,
          "metadata": {},
          "output_type": "execute_result"
        }
      ],
      "source": [
        "history_idx30_df.groupby('symbol').date.nunique()"
      ]
    },
    {
      "cell_type": "code",
      "execution_count": 8,
      "metadata": {
        "colab": {
          "base_uri": "https://localhost:8080/"
        },
        "id": "g4D-xfvmiFV4",
        "outputId": "b0d3165d-f79c-498b-fc57-9521763259c2"
      },
      "outputs": [],
      "source": [
        "# Query historical market cap data\n",
        "market_cap_df = fetch_mcap_data()"
      ]
    },
    {
      "cell_type": "markdown",
      "metadata": {
        "id": "GBvLT3cvVqTW"
      },
      "source": [
        "# 1 - Market Momentum - IDX Composite Momentum"
      ]
    },
    {
      "cell_type": "markdown",
      "metadata": {
        "id": "rb02qmrjVwtD"
      },
      "source": [
        "\n",
        "Calculate Market Momentum Index using the SMA method and aggregate results on a daily basis.\n",
        "\n",
        "Parameters:\n",
        "\n",
        "* daily_data_df (DataFrame): DataFrame containing at least 'symbol', 'date', and 'close' columns.\n",
        "\n",
        "* sma_period: Number of days for the SMA calculation (default is 7).\n",
        "\n",
        "* min_momentum: Minimum expected momentum to scale the index (default is -5%).\n",
        "\n",
        "* max_momentum: Maximum expected momentum to scale the index (default is +5%).\n",
        "\n",
        "Returns:\n",
        "\n",
        "DataFrame: DataFrame with daily market momentum index.\n"
      ]
    },
    {
      "cell_type": "code",
      "execution_count": 9,
      "metadata": {
        "id": "LS0eKjtDbZyJ"
      },
      "outputs": [],
      "source": [
        "daily_data_df_momentum = history_idx30_df.copy()"
      ]
    },
    {
      "cell_type": "code",
      "execution_count": 10,
      "metadata": {
        "id": "a2vRbqxnb-Ja"
      },
      "outputs": [],
      "source": [
        "sma_period=7\n",
        "min_momentum=-5\n",
        "max_momentum=5"
      ]
    },
    {
      "cell_type": "code",
      "execution_count": 11,
      "metadata": {
        "id": "k6WoUibgcJYP"
      },
      "outputs": [],
      "source": [
        "# Calculate SMA for each stock\n",
        "daily_data_df_momentum['sma'] = daily_data_df_momentum.groupby('symbol')['close'].transform(lambda x: x.rolling(window=sma_period, min_periods=1).mean())"
      ]
    },
    {
      "cell_type": "code",
      "execution_count": 12,
      "metadata": {
        "colab": {
          "base_uri": "https://localhost:8080/",
          "height": 424
        },
        "id": "oKf4cRF7cLb_",
        "outputId": "d065de9d-2741-4dba-839d-b3afa49bb6af"
      },
      "outputs": [
        {
          "data": {
            "text/html": [
              "<div>\n",
              "<style scoped>\n",
              "    .dataframe tbody tr th:only-of-type {\n",
              "        vertical-align: middle;\n",
              "    }\n",
              "\n",
              "    .dataframe tbody tr th {\n",
              "        vertical-align: top;\n",
              "    }\n",
              "\n",
              "    .dataframe thead th {\n",
              "        text-align: right;\n",
              "    }\n",
              "</style>\n",
              "<table border=\"1\" class=\"dataframe\">\n",
              "  <thead>\n",
              "    <tr style=\"text-align: right;\">\n",
              "      <th></th>\n",
              "      <th>symbol</th>\n",
              "      <th>sma</th>\n",
              "    </tr>\n",
              "  </thead>\n",
              "  <tbody>\n",
              "    <tr>\n",
              "      <th>0</th>\n",
              "      <td>BUKA.JK</td>\n",
              "      <td>127.000000</td>\n",
              "    </tr>\n",
              "    <tr>\n",
              "      <th>1</th>\n",
              "      <td>ARTO.JK</td>\n",
              "      <td>2530.000000</td>\n",
              "    </tr>\n",
              "    <tr>\n",
              "      <th>2</th>\n",
              "      <td>BBRI.JK</td>\n",
              "      <td>4790.000000</td>\n",
              "    </tr>\n",
              "    <tr>\n",
              "      <th>3</th>\n",
              "      <td>AKRA.JK</td>\n",
              "      <td>1505.000000</td>\n",
              "    </tr>\n",
              "    <tr>\n",
              "      <th>4</th>\n",
              "      <td>CPIN.JK</td>\n",
              "      <td>5400.000000</td>\n",
              "    </tr>\n",
              "    <tr>\n",
              "      <th>...</th>\n",
              "      <td>...</td>\n",
              "      <td>...</td>\n",
              "    </tr>\n",
              "    <tr>\n",
              "      <th>1907</th>\n",
              "      <td>INCO.JK</td>\n",
              "      <td>4165.714286</td>\n",
              "    </tr>\n",
              "    <tr>\n",
              "      <th>1908</th>\n",
              "      <td>KLBF.JK</td>\n",
              "      <td>1711.428571</td>\n",
              "    </tr>\n",
              "    <tr>\n",
              "      <th>1909</th>\n",
              "      <td>ANTM.JK</td>\n",
              "      <td>1614.285714</td>\n",
              "    </tr>\n",
              "    <tr>\n",
              "      <th>1910</th>\n",
              "      <td>INDF.JK</td>\n",
              "      <td>7203.571429</td>\n",
              "    </tr>\n",
              "    <tr>\n",
              "      <th>1911</th>\n",
              "      <td>CPIN.JK</td>\n",
              "      <td>4997.142857</td>\n",
              "    </tr>\n",
              "  </tbody>\n",
              "</table>\n",
              "<p>1912 rows × 2 columns</p>\n",
              "</div>"
            ],
            "text/plain": [
              "       symbol          sma\n",
              "0     BUKA.JK   127.000000\n",
              "1     ARTO.JK  2530.000000\n",
              "2     BBRI.JK  4790.000000\n",
              "3     AKRA.JK  1505.000000\n",
              "4     CPIN.JK  5400.000000\n",
              "...       ...          ...\n",
              "1907  INCO.JK  4165.714286\n",
              "1908  KLBF.JK  1711.428571\n",
              "1909  ANTM.JK  1614.285714\n",
              "1910  INDF.JK  7203.571429\n",
              "1911  CPIN.JK  4997.142857\n",
              "\n",
              "[1912 rows x 2 columns]"
            ]
          },
          "execution_count": 12,
          "metadata": {},
          "output_type": "execute_result"
        }
      ],
      "source": [
        "daily_data_df_momentum[['symbol','sma']]"
      ]
    },
    {
      "cell_type": "code",
      "execution_count": 13,
      "metadata": {
        "id": "4olW0WL7cXsE"
      },
      "outputs": [],
      "source": [
        "# Calculate the percentage difference from the SMA\n",
        "# Small constant to avoid division by zero\n",
        "epsilon = 1e-9\n",
        "daily_data_df_momentum['momentum_sma'] = ((daily_data_df_momentum['close'] - daily_data_df_momentum['sma']) / (daily_data_df_momentum['sma'] + epsilon)) * 100"
      ]
    },
    {
      "cell_type": "code",
      "execution_count": 14,
      "metadata": {
        "colab": {
          "base_uri": "https://localhost:8080/",
          "height": 424
        },
        "id": "SNECdDtNc8NS",
        "outputId": "2a7023a1-9056-4679-a388-1e01e242340a"
      },
      "outputs": [
        {
          "data": {
            "text/html": [
              "<div>\n",
              "<style scoped>\n",
              "    .dataframe tbody tr th:only-of-type {\n",
              "        vertical-align: middle;\n",
              "    }\n",
              "\n",
              "    .dataframe tbody tr th {\n",
              "        vertical-align: top;\n",
              "    }\n",
              "\n",
              "    .dataframe thead th {\n",
              "        text-align: right;\n",
              "    }\n",
              "</style>\n",
              "<table border=\"1\" class=\"dataframe\">\n",
              "  <thead>\n",
              "    <tr style=\"text-align: right;\">\n",
              "      <th></th>\n",
              "      <th>symbol</th>\n",
              "      <th>momentum_sma</th>\n",
              "    </tr>\n",
              "  </thead>\n",
              "  <tbody>\n",
              "    <tr>\n",
              "      <th>0</th>\n",
              "      <td>BUKA.JK</td>\n",
              "      <td>0.000000</td>\n",
              "    </tr>\n",
              "    <tr>\n",
              "      <th>1</th>\n",
              "      <td>ARTO.JK</td>\n",
              "      <td>0.000000</td>\n",
              "    </tr>\n",
              "    <tr>\n",
              "      <th>2</th>\n",
              "      <td>BBRI.JK</td>\n",
              "      <td>0.000000</td>\n",
              "    </tr>\n",
              "    <tr>\n",
              "      <th>3</th>\n",
              "      <td>AKRA.JK</td>\n",
              "      <td>0.000000</td>\n",
              "    </tr>\n",
              "    <tr>\n",
              "      <th>4</th>\n",
              "      <td>CPIN.JK</td>\n",
              "      <td>0.000000</td>\n",
              "    </tr>\n",
              "    <tr>\n",
              "      <th>...</th>\n",
              "      <td>...</td>\n",
              "      <td>...</td>\n",
              "    </tr>\n",
              "    <tr>\n",
              "      <th>1907</th>\n",
              "      <td>INCO.JK</td>\n",
              "      <td>2.023320</td>\n",
              "    </tr>\n",
              "    <tr>\n",
              "      <th>1908</th>\n",
              "      <td>KLBF.JK</td>\n",
              "      <td>-3.005008</td>\n",
              "    </tr>\n",
              "    <tr>\n",
              "      <th>1909</th>\n",
              "      <td>ANTM.JK</td>\n",
              "      <td>4.690265</td>\n",
              "    </tr>\n",
              "    <tr>\n",
              "      <th>1910</th>\n",
              "      <td>INDF.JK</td>\n",
              "      <td>2.726822</td>\n",
              "    </tr>\n",
              "    <tr>\n",
              "      <th>1911</th>\n",
              "      <td>CPIN.JK</td>\n",
              "      <td>1.057747</td>\n",
              "    </tr>\n",
              "  </tbody>\n",
              "</table>\n",
              "<p>1912 rows × 2 columns</p>\n",
              "</div>"
            ],
            "text/plain": [
              "       symbol  momentum_sma\n",
              "0     BUKA.JK      0.000000\n",
              "1     ARTO.JK      0.000000\n",
              "2     BBRI.JK      0.000000\n",
              "3     AKRA.JK      0.000000\n",
              "4     CPIN.JK      0.000000\n",
              "...       ...           ...\n",
              "1907  INCO.JK      2.023320\n",
              "1908  KLBF.JK     -3.005008\n",
              "1909  ANTM.JK      4.690265\n",
              "1910  INDF.JK      2.726822\n",
              "1911  CPIN.JK      1.057747\n",
              "\n",
              "[1912 rows x 2 columns]"
            ]
          },
          "execution_count": 14,
          "metadata": {},
          "output_type": "execute_result"
        }
      ],
      "source": [
        "daily_data_df_momentum[['symbol','momentum_sma']]"
      ]
    },
    {
      "cell_type": "code",
      "execution_count": 15,
      "metadata": {
        "id": "X-CG8Pdfc-Kx"
      },
      "outputs": [],
      "source": [
        "# Remove any NaNs in case any\n",
        "daily_data_df_momentum = daily_data_df_momentum.dropna(subset=['momentum_sma'])"
      ]
    },
    {
      "cell_type": "code",
      "execution_count": 16,
      "metadata": {
        "id": "OahdAoJ1duOU"
      },
      "outputs": [],
      "source": [
        "# Scale the momentum to a 0-100 range for the Fear and Greed Index\n",
        "def scale_to_100(value, min_val, max_val):\n",
        "\n",
        "  scaled_value = (value - min_val) / (max_val - min_val) * 100\n",
        "\n",
        "  return np.clip(scaled_value, 0, 100)"
      ]
    },
    {
      "cell_type": "code",
      "execution_count": 17,
      "metadata": {
        "id": "GVvPbtREd1lc"
      },
      "outputs": [],
      "source": [
        "daily_data_df_momentum['momentum_scaled'] = daily_data_df_momentum['momentum_sma'].apply(lambda x: scale_to_100(x, min_momentum, max_momentum))"
      ]
    },
    {
      "cell_type": "code",
      "execution_count": 18,
      "metadata": {
        "colab": {
          "base_uri": "https://localhost:8080/",
          "height": 424
        },
        "id": "A2mVLldid6Zy",
        "outputId": "972d639f-2db5-4227-e469-f8640ffa51b6"
      },
      "outputs": [
        {
          "data": {
            "text/html": [
              "<div>\n",
              "<style scoped>\n",
              "    .dataframe tbody tr th:only-of-type {\n",
              "        vertical-align: middle;\n",
              "    }\n",
              "\n",
              "    .dataframe tbody tr th {\n",
              "        vertical-align: top;\n",
              "    }\n",
              "\n",
              "    .dataframe thead th {\n",
              "        text-align: right;\n",
              "    }\n",
              "</style>\n",
              "<table border=\"1\" class=\"dataframe\">\n",
              "  <thead>\n",
              "    <tr style=\"text-align: right;\">\n",
              "      <th></th>\n",
              "      <th>symbol</th>\n",
              "      <th>momentum_scaled</th>\n",
              "    </tr>\n",
              "  </thead>\n",
              "  <tbody>\n",
              "    <tr>\n",
              "      <th>0</th>\n",
              "      <td>BUKA.JK</td>\n",
              "      <td>50.000000</td>\n",
              "    </tr>\n",
              "    <tr>\n",
              "      <th>1</th>\n",
              "      <td>ARTO.JK</td>\n",
              "      <td>50.000000</td>\n",
              "    </tr>\n",
              "    <tr>\n",
              "      <th>2</th>\n",
              "      <td>BBRI.JK</td>\n",
              "      <td>50.000000</td>\n",
              "    </tr>\n",
              "    <tr>\n",
              "      <th>3</th>\n",
              "      <td>AKRA.JK</td>\n",
              "      <td>50.000000</td>\n",
              "    </tr>\n",
              "    <tr>\n",
              "      <th>4</th>\n",
              "      <td>CPIN.JK</td>\n",
              "      <td>50.000000</td>\n",
              "    </tr>\n",
              "    <tr>\n",
              "      <th>...</th>\n",
              "      <td>...</td>\n",
              "      <td>...</td>\n",
              "    </tr>\n",
              "    <tr>\n",
              "      <th>1907</th>\n",
              "      <td>INCO.JK</td>\n",
              "      <td>70.233196</td>\n",
              "    </tr>\n",
              "    <tr>\n",
              "      <th>1908</th>\n",
              "      <td>KLBF.JK</td>\n",
              "      <td>19.949917</td>\n",
              "    </tr>\n",
              "    <tr>\n",
              "      <th>1909</th>\n",
              "      <td>ANTM.JK</td>\n",
              "      <td>96.902655</td>\n",
              "    </tr>\n",
              "    <tr>\n",
              "      <th>1910</th>\n",
              "      <td>INDF.JK</td>\n",
              "      <td>77.268220</td>\n",
              "    </tr>\n",
              "    <tr>\n",
              "      <th>1911</th>\n",
              "      <td>CPIN.JK</td>\n",
              "      <td>60.577473</td>\n",
              "    </tr>\n",
              "  </tbody>\n",
              "</table>\n",
              "<p>1912 rows × 2 columns</p>\n",
              "</div>"
            ],
            "text/plain": [
              "       symbol  momentum_scaled\n",
              "0     BUKA.JK        50.000000\n",
              "1     ARTO.JK        50.000000\n",
              "2     BBRI.JK        50.000000\n",
              "3     AKRA.JK        50.000000\n",
              "4     CPIN.JK        50.000000\n",
              "...       ...              ...\n",
              "1907  INCO.JK        70.233196\n",
              "1908  KLBF.JK        19.949917\n",
              "1909  ANTM.JK        96.902655\n",
              "1910  INDF.JK        77.268220\n",
              "1911  CPIN.JK        60.577473\n",
              "\n",
              "[1912 rows x 2 columns]"
            ]
          },
          "execution_count": 18,
          "metadata": {},
          "output_type": "execute_result"
        }
      ],
      "source": [
        "daily_data_df_momentum[['symbol','momentum_scaled']]"
      ]
    },
    {
      "cell_type": "code",
      "execution_count": 19,
      "metadata": {
        "id": "Lm1qpU_8eA9R"
      },
      "outputs": [],
      "source": [
        "# Calculate the Market Momentum Index on a daily basis\n",
        "daily_momentum_index = daily_data_df_momentum.groupby('date')['momentum_scaled'].mean().reset_index()"
      ]
    },
    {
      "cell_type": "code",
      "execution_count": 20,
      "metadata": {
        "colab": {
          "base_uri": "https://localhost:8080/",
          "height": 424
        },
        "id": "6yyG783YeG6D",
        "outputId": "17052b83-2925-4825-99d5-a03c6129744e"
      },
      "outputs": [
        {
          "data": {
            "text/html": [
              "<div>\n",
              "<style scoped>\n",
              "    .dataframe tbody tr th:only-of-type {\n",
              "        vertical-align: middle;\n",
              "    }\n",
              "\n",
              "    .dataframe tbody tr th {\n",
              "        vertical-align: top;\n",
              "    }\n",
              "\n",
              "    .dataframe thead th {\n",
              "        text-align: right;\n",
              "    }\n",
              "</style>\n",
              "<table border=\"1\" class=\"dataframe\">\n",
              "  <thead>\n",
              "    <tr style=\"text-align: right;\">\n",
              "      <th></th>\n",
              "      <th>date</th>\n",
              "      <th>momentum_scaled</th>\n",
              "    </tr>\n",
              "  </thead>\n",
              "  <tbody>\n",
              "    <tr>\n",
              "      <th>0</th>\n",
              "      <td>2024-07-23</td>\n",
              "      <td>50.000000</td>\n",
              "    </tr>\n",
              "    <tr>\n",
              "      <th>1</th>\n",
              "      <td>2024-07-24</td>\n",
              "      <td>46.022622</td>\n",
              "    </tr>\n",
              "    <tr>\n",
              "      <th>2</th>\n",
              "      <td>2024-07-25</td>\n",
              "      <td>43.231244</td>\n",
              "    </tr>\n",
              "    <tr>\n",
              "      <th>3</th>\n",
              "      <td>2024-07-26</td>\n",
              "      <td>49.945080</td>\n",
              "    </tr>\n",
              "    <tr>\n",
              "      <th>4</th>\n",
              "      <td>2024-07-29</td>\n",
              "      <td>47.492180</td>\n",
              "    </tr>\n",
              "    <tr>\n",
              "      <th>...</th>\n",
              "      <td>...</td>\n",
              "      <td>...</td>\n",
              "    </tr>\n",
              "    <tr>\n",
              "      <th>59</th>\n",
              "      <td>2024-10-15</td>\n",
              "      <td>55.609823</td>\n",
              "    </tr>\n",
              "    <tr>\n",
              "      <th>60</th>\n",
              "      <td>2024-10-16</td>\n",
              "      <td>57.956718</td>\n",
              "    </tr>\n",
              "    <tr>\n",
              "      <th>61</th>\n",
              "      <td>2024-10-17</td>\n",
              "      <td>59.956895</td>\n",
              "    </tr>\n",
              "    <tr>\n",
              "      <th>62</th>\n",
              "      <td>2024-10-18</td>\n",
              "      <td>60.242725</td>\n",
              "    </tr>\n",
              "    <tr>\n",
              "      <th>63</th>\n",
              "      <td>2024-10-21</td>\n",
              "      <td>58.265529</td>\n",
              "    </tr>\n",
              "  </tbody>\n",
              "</table>\n",
              "<p>64 rows × 2 columns</p>\n",
              "</div>"
            ],
            "text/plain": [
              "          date  momentum_scaled\n",
              "0   2024-07-23        50.000000\n",
              "1   2024-07-24        46.022622\n",
              "2   2024-07-25        43.231244\n",
              "3   2024-07-26        49.945080\n",
              "4   2024-07-29        47.492180\n",
              "..         ...              ...\n",
              "59  2024-10-15        55.609823\n",
              "60  2024-10-16        57.956718\n",
              "61  2024-10-17        59.956895\n",
              "62  2024-10-18        60.242725\n",
              "63  2024-10-21        58.265529\n",
              "\n",
              "[64 rows x 2 columns]"
            ]
          },
          "execution_count": 20,
          "metadata": {},
          "output_type": "execute_result"
        }
      ],
      "source": [
        "daily_momentum_index"
      ]
    },
    {
      "cell_type": "code",
      "execution_count": 21,
      "metadata": {
        "colab": {
          "base_uri": "https://localhost:8080/"
        },
        "id": "1Fk5X2sNeP0h",
        "outputId": "410241ec-574e-415b-b4a5-11a2e8f091a3"
      },
      "outputs": [
        {
          "name": "stdout",
          "output_type": "stream",
          "text": [
            "Today´s Market Momentum Fear and Greed index is:  58.26552937205858\n"
          ]
        }
      ],
      "source": [
        "print('Today´s Market Momentum Fear and Greed index is: ', daily_momentum_index.iloc[-1,-1])"
      ]
    },
    {
      "cell_type": "code",
      "execution_count": 22,
      "metadata": {
        "colab": {
          "base_uri": "https://localhost:8080/",
          "height": 1000
        },
        "id": "nCIao7MLfejB",
        "outputId": "cc419858-5d91-4696-f4a3-688adb5e78a0"
      },
      "outputs": [
        {
          "ename": "KeyError",
          "evalue": "'market_momentum_index'",
          "output_type": "error",
          "traceback": [
            "\u001b[1;31m---------------------------------------------------------------------------\u001b[0m",
            "\u001b[1;31mKeyError\u001b[0m                                  Traceback (most recent call last)",
            "File \u001b[1;32mc:\\Users\\Johann\\Code\\Supertype\\sectors_idx_fear_and_greed_index\\.venv\\Lib\\site-packages\\pandas\\core\\indexes\\base.py:3805\u001b[0m, in \u001b[0;36mIndex.get_loc\u001b[1;34m(self, key)\u001b[0m\n\u001b[0;32m   3804\u001b[0m \u001b[38;5;28;01mtry\u001b[39;00m:\n\u001b[1;32m-> 3805\u001b[0m     \u001b[38;5;28;01mreturn\u001b[39;00m \u001b[38;5;28;43mself\u001b[39;49m\u001b[38;5;241;43m.\u001b[39;49m\u001b[43m_engine\u001b[49m\u001b[38;5;241;43m.\u001b[39;49m\u001b[43mget_loc\u001b[49m\u001b[43m(\u001b[49m\u001b[43mcasted_key\u001b[49m\u001b[43m)\u001b[49m\n\u001b[0;32m   3806\u001b[0m \u001b[38;5;28;01mexcept\u001b[39;00m \u001b[38;5;167;01mKeyError\u001b[39;00m \u001b[38;5;28;01mas\u001b[39;00m err:\n",
            "File \u001b[1;32mindex.pyx:167\u001b[0m, in \u001b[0;36mpandas._libs.index.IndexEngine.get_loc\u001b[1;34m()\u001b[0m\n",
            "File \u001b[1;32mindex.pyx:196\u001b[0m, in \u001b[0;36mpandas._libs.index.IndexEngine.get_loc\u001b[1;34m()\u001b[0m\n",
            "File \u001b[1;32mpandas\\\\_libs\\\\hashtable_class_helper.pxi:7081\u001b[0m, in \u001b[0;36mpandas._libs.hashtable.PyObjectHashTable.get_item\u001b[1;34m()\u001b[0m\n",
            "File \u001b[1;32mpandas\\\\_libs\\\\hashtable_class_helper.pxi:7089\u001b[0m, in \u001b[0;36mpandas._libs.hashtable.PyObjectHashTable.get_item\u001b[1;34m()\u001b[0m\n",
            "\u001b[1;31mKeyError\u001b[0m: 'market_momentum_index'",
            "\nThe above exception was the direct cause of the following exception:\n",
            "\u001b[1;31mKeyError\u001b[0m                                  Traceback (most recent call last)",
            "Cell \u001b[1;32mIn[22], line 5\u001b[0m\n\u001b[0;32m      2\u001b[0m \u001b[38;5;28;01mimport\u001b[39;00m \u001b[38;5;21;01mmatplotlib\u001b[39;00m\u001b[38;5;21;01m.\u001b[39;00m\u001b[38;5;21;01mdates\u001b[39;00m \u001b[38;5;28;01mas\u001b[39;00m \u001b[38;5;21;01mmdates\u001b[39;00m\n\u001b[0;32m      4\u001b[0m fig, ax \u001b[38;5;241m=\u001b[39m plt\u001b[38;5;241m.\u001b[39msubplots(figsize\u001b[38;5;241m=\u001b[39m(\u001b[38;5;241m12\u001b[39m, \u001b[38;5;241m6\u001b[39m))\n\u001b[1;32m----> 5\u001b[0m ax\u001b[38;5;241m.\u001b[39mplot(daily_momentum_index[\u001b[38;5;124m'\u001b[39m\u001b[38;5;124mdate\u001b[39m\u001b[38;5;124m'\u001b[39m], \u001b[43mdaily_momentum_index\u001b[49m\u001b[43m[\u001b[49m\u001b[38;5;124;43m'\u001b[39;49m\u001b[38;5;124;43mmarket_momentum_index\u001b[39;49m\u001b[38;5;124;43m'\u001b[39;49m\u001b[43m]\u001b[49m, color\u001b[38;5;241m=\u001b[39m\u001b[38;5;124m'\u001b[39m\u001b[38;5;124mblue\u001b[39m\u001b[38;5;124m'\u001b[39m, linewidth\u001b[38;5;241m=\u001b[39m\u001b[38;5;241m2\u001b[39m, label\u001b[38;5;241m=\u001b[39m\u001b[38;5;124m'\u001b[39m\u001b[38;5;124mMarket Momentum Index\u001b[39m\u001b[38;5;124m'\u001b[39m)\n\u001b[0;32m      7\u001b[0m \u001b[38;5;66;03m# Highlight the \"Fear\" and \"Greed\" zones\u001b[39;00m\n\u001b[0;32m      8\u001b[0m ax\u001b[38;5;241m.\u001b[39mfill_between(daily_momentum_index[\u001b[38;5;124m'\u001b[39m\u001b[38;5;124mdate\u001b[39m\u001b[38;5;124m'\u001b[39m], \u001b[38;5;241m0\u001b[39m, \u001b[38;5;241m50\u001b[39m, color\u001b[38;5;241m=\u001b[39m\u001b[38;5;124m'\u001b[39m\u001b[38;5;124mred\u001b[39m\u001b[38;5;124m'\u001b[39m, alpha\u001b[38;5;241m=\u001b[39m\u001b[38;5;241m0.2\u001b[39m, label\u001b[38;5;241m=\u001b[39m\u001b[38;5;124m'\u001b[39m\u001b[38;5;124mFear Zone\u001b[39m\u001b[38;5;124m'\u001b[39m)\n",
            "File \u001b[1;32mc:\\Users\\Johann\\Code\\Supertype\\sectors_idx_fear_and_greed_index\\.venv\\Lib\\site-packages\\pandas\\core\\frame.py:4102\u001b[0m, in \u001b[0;36mDataFrame.__getitem__\u001b[1;34m(self, key)\u001b[0m\n\u001b[0;32m   4100\u001b[0m \u001b[38;5;28;01mif\u001b[39;00m \u001b[38;5;28mself\u001b[39m\u001b[38;5;241m.\u001b[39mcolumns\u001b[38;5;241m.\u001b[39mnlevels \u001b[38;5;241m>\u001b[39m \u001b[38;5;241m1\u001b[39m:\n\u001b[0;32m   4101\u001b[0m     \u001b[38;5;28;01mreturn\u001b[39;00m \u001b[38;5;28mself\u001b[39m\u001b[38;5;241m.\u001b[39m_getitem_multilevel(key)\n\u001b[1;32m-> 4102\u001b[0m indexer \u001b[38;5;241m=\u001b[39m \u001b[38;5;28;43mself\u001b[39;49m\u001b[38;5;241;43m.\u001b[39;49m\u001b[43mcolumns\u001b[49m\u001b[38;5;241;43m.\u001b[39;49m\u001b[43mget_loc\u001b[49m\u001b[43m(\u001b[49m\u001b[43mkey\u001b[49m\u001b[43m)\u001b[49m\n\u001b[0;32m   4103\u001b[0m \u001b[38;5;28;01mif\u001b[39;00m is_integer(indexer):\n\u001b[0;32m   4104\u001b[0m     indexer \u001b[38;5;241m=\u001b[39m [indexer]\n",
            "File \u001b[1;32mc:\\Users\\Johann\\Code\\Supertype\\sectors_idx_fear_and_greed_index\\.venv\\Lib\\site-packages\\pandas\\core\\indexes\\base.py:3812\u001b[0m, in \u001b[0;36mIndex.get_loc\u001b[1;34m(self, key)\u001b[0m\n\u001b[0;32m   3807\u001b[0m     \u001b[38;5;28;01mif\u001b[39;00m \u001b[38;5;28misinstance\u001b[39m(casted_key, \u001b[38;5;28mslice\u001b[39m) \u001b[38;5;129;01mor\u001b[39;00m (\n\u001b[0;32m   3808\u001b[0m         \u001b[38;5;28misinstance\u001b[39m(casted_key, abc\u001b[38;5;241m.\u001b[39mIterable)\n\u001b[0;32m   3809\u001b[0m         \u001b[38;5;129;01mand\u001b[39;00m \u001b[38;5;28many\u001b[39m(\u001b[38;5;28misinstance\u001b[39m(x, \u001b[38;5;28mslice\u001b[39m) \u001b[38;5;28;01mfor\u001b[39;00m x \u001b[38;5;129;01min\u001b[39;00m casted_key)\n\u001b[0;32m   3810\u001b[0m     ):\n\u001b[0;32m   3811\u001b[0m         \u001b[38;5;28;01mraise\u001b[39;00m InvalidIndexError(key)\n\u001b[1;32m-> 3812\u001b[0m     \u001b[38;5;28;01mraise\u001b[39;00m \u001b[38;5;167;01mKeyError\u001b[39;00m(key) \u001b[38;5;28;01mfrom\u001b[39;00m \u001b[38;5;21;01merr\u001b[39;00m\n\u001b[0;32m   3813\u001b[0m \u001b[38;5;28;01mexcept\u001b[39;00m \u001b[38;5;167;01mTypeError\u001b[39;00m:\n\u001b[0;32m   3814\u001b[0m     \u001b[38;5;66;03m# If we have a listlike key, _check_indexing_error will raise\u001b[39;00m\n\u001b[0;32m   3815\u001b[0m     \u001b[38;5;66;03m#  InvalidIndexError. Otherwise we fall through and re-raise\u001b[39;00m\n\u001b[0;32m   3816\u001b[0m     \u001b[38;5;66;03m#  the TypeError.\u001b[39;00m\n\u001b[0;32m   3817\u001b[0m     \u001b[38;5;28mself\u001b[39m\u001b[38;5;241m.\u001b[39m_check_indexing_error(key)\n",
            "\u001b[1;31mKeyError\u001b[0m: 'market_momentum_index'"
          ]
        },
        {
          "data": {
            "image/png": "[encoded data removed]",
            "text/plain": [
              "<Figure size 1200x600 with 1 Axes>"
            ]
          },
          "metadata": {},
          "output_type": "display_data"
        }
      ],
      "source": [
        "import matplotlib.pyplot as plt\n",
        "import matplotlib.dates as mdates\n",
        "\n",
        "fig, ax = plt.subplots(figsize=(12, 6))\n",
        "ax.plot(daily_momentum_index['date'], daily_momentum_index['market_momentum_index'], color='blue', linewidth=2, label='Market Momentum Index')\n",
        "\n",
        "# Highlight the \"Fear\" and \"Greed\" zones\n",
        "ax.fill_between(daily_momentum_index['date'], 0, 50, color='red', alpha=0.2, label='Fear Zone')\n",
        "ax.fill_between(daily_momentum_index['date'], 50, 100, color='green', alpha=0.2, label='Greed Zone')\n",
        "\n",
        "# Formatting the x-axis\n",
        "ax.xaxis.set_major_formatter(mdates.DateFormatter('%b %d'))\n",
        "ax.xaxis.set_major_locator(mdates.WeekdayLocator(interval=1))\n",
        "plt.xticks(rotation=45)\n",
        "\n",
        "# Adding labels and title\n",
        "plt.title(\"Market Momentum: Fear and Greed Index Over Time\", fontsize=16, fontweight='bold')\n",
        "plt.xlabel(\"Date\", fontsize=12)\n",
        "plt.ylabel(\"Momentum Scaled Index\", fontsize=12)\n",
        "\n",
        "\n",
        "plt.grid(visible=True, linestyle='--', alpha=0.6)\n",
        "plt.legend()\n",
        "plt.tight_layout()\n",
        "plt.show()"
      ]
    },
    {
      "cell_type": "markdown",
      "metadata": {
        "id": "F1bL1zaEo9JF"
      },
      "source": [
        "# 2 - Stock Price Strength"
      ]
    },
    {
      "cell_type": "code",
      "execution_count": 24,
      "metadata": {
        "id": "QMp2a3ZoqpIR"
      },
      "outputs": [],
      "source": [
        "# Create a copy of the original DataFrame\n",
        "df_copy_ps = history_idx30_df.copy()"
      ]
    },
    {
      "cell_type": "code",
      "execution_count": 25,
      "metadata": {
        "id": "RZorsJcVqtIz"
      },
      "outputs": [],
      "source": [
        "# Calculate the daily percentage change in 'close' price for each symbol on the copy\n",
        "df_copy_ps['daily_return'] = df_copy_ps.groupby('symbol')['close'].pct_change() * 100"
      ]
    },
    {
      "cell_type": "code",
      "execution_count": 26,
      "metadata": {
        "id": "TsbTHreyqvIj"
      },
      "outputs": [],
      "source": [
        "# Calculate the 7-day SMA of the daily returns on the copy\n",
        "df_copy_ps['sma_7d_return'] = df_copy_ps.groupby('symbol')['daily_return'].transform(lambda x: x.rolling(window=7).mean())"
      ]
    },
    {
      "cell_type": "code",
      "execution_count": 27,
      "metadata": {
        "collapsed": true,
        "id": "frgJ2B3pqzP1"
      },
      "outputs": [
        {
          "name": "stderr",
          "output_type": "stream",
          "text": [
            "C:\\Users\\Johann\\AppData\\Local\\Temp\\ipykernel_7544\\1308674173.py:2: FutureWarning: A value is trying to be set on a copy of a DataFrame or Series through chained assignment using an inplace method.\n",
            "The behavior will change in pandas 3.0. This inplace method will never work because the intermediate object on which we are setting values always behaves as a copy.\n",
            "\n",
            "For example, when doing 'df[col].method(value, inplace=True)', try using 'df.method({col: value}, inplace=True)' or df[col] = df[col].method(value) instead, to perform the operation inplace on the original object.\n",
            "\n",
            "\n",
            "  df_copy_ps['sma_7d_return'].replace([np.inf, -np.inf], np.nan, inplace=True)\n",
            "C:\\Users\\Johann\\AppData\\Local\\Temp\\ipykernel_7544\\1308674173.py:3: FutureWarning: A value is trying to be set on a copy of a DataFrame or Series through chained assignment using an inplace method.\n",
            "The behavior will change in pandas 3.0. This inplace method will never work because the intermediate object on which we are setting values always behaves as a copy.\n",
            "\n",
            "For example, when doing 'df[col].method(value, inplace=True)', try using 'df.method({col: value}, inplace=True)' or df[col] = df[col].method(value) instead, to perform the operation inplace on the original object.\n",
            "\n",
            "\n",
            "  df_copy_ps['sma_7d_return'].fillna(0, inplace=True)\n"
          ]
        }
      ],
      "source": [
        "# Handle zero division by replacing any infinite or NaN values in 'sma_7d_return' with zeros\n",
        "df_copy_ps['sma_7d_return'].replace([np.inf, -np.inf], np.nan, inplace=True)\n",
        "df_copy_ps['sma_7d_return'].fillna(0, inplace=True)"
      ]
    },
    {
      "cell_type": "code",
      "execution_count": 28,
      "metadata": {
        "id": "v1stoULJq4Ss"
      },
      "outputs": [],
      "source": [
        "# Scale the SMA results for fear and greed index on a 0 to 100 scale\n",
        "# Calculate the min and max of the SMA to normalize\n",
        "min_sma = df_copy_ps['sma_7d_return'].min()\n",
        "max_sma = df_copy_ps['sma_7d_return'].max()"
      ]
    },
    {
      "cell_type": "code",
      "execution_count": 29,
      "metadata": {
        "id": "3bOgpe0Mq87m"
      },
      "outputs": [],
      "source": [
        "# Avoid division by zero in scaling\n",
        "if max_sma - min_sma == 0:\n",
        "    df_copy_ps['scaled_strength_index'] = 0\n",
        "else:\n",
        "    df_copy_ps['scaled_strength_index'] = ((df_copy_ps['sma_7d_return'] - min_sma) / (max_sma - min_sma)) * 100"
      ]
    },
    {
      "cell_type": "code",
      "execution_count": 30,
      "metadata": {
        "id": "qCjfaD5drB8Y"
      },
      "outputs": [
        {
          "data": {
            "text/html": [
              "<div>\n",
              "<style scoped>\n",
              "    .dataframe tbody tr th:only-of-type {\n",
              "        vertical-align: middle;\n",
              "    }\n",
              "\n",
              "    .dataframe tbody tr th {\n",
              "        vertical-align: top;\n",
              "    }\n",
              "\n",
              "    .dataframe thead th {\n",
              "        text-align: right;\n",
              "    }\n",
              "</style>\n",
              "<table border=\"1\" class=\"dataframe\">\n",
              "  <thead>\n",
              "    <tr style=\"text-align: right;\">\n",
              "      <th></th>\n",
              "      <th>symbol</th>\n",
              "      <th>date</th>\n",
              "      <th>scaled_strength_index</th>\n",
              "    </tr>\n",
              "  </thead>\n",
              "  <tbody>\n",
              "    <tr>\n",
              "      <th>0</th>\n",
              "      <td>BUKA.JK</td>\n",
              "      <td>2024-07-23</td>\n",
              "      <td>41.097722</td>\n",
              "    </tr>\n",
              "    <tr>\n",
              "      <th>1</th>\n",
              "      <td>ARTO.JK</td>\n",
              "      <td>2024-07-23</td>\n",
              "      <td>41.097722</td>\n",
              "    </tr>\n",
              "    <tr>\n",
              "      <th>2</th>\n",
              "      <td>BBRI.JK</td>\n",
              "      <td>2024-07-23</td>\n",
              "      <td>41.097722</td>\n",
              "    </tr>\n",
              "    <tr>\n",
              "      <th>3</th>\n",
              "      <td>AKRA.JK</td>\n",
              "      <td>2024-07-23</td>\n",
              "      <td>41.097722</td>\n",
              "    </tr>\n",
              "    <tr>\n",
              "      <th>4</th>\n",
              "      <td>CPIN.JK</td>\n",
              "      <td>2024-07-23</td>\n",
              "      <td>41.097722</td>\n",
              "    </tr>\n",
              "    <tr>\n",
              "      <th>...</th>\n",
              "      <td>...</td>\n",
              "      <td>...</td>\n",
              "      <td>...</td>\n",
              "    </tr>\n",
              "    <tr>\n",
              "      <th>1907</th>\n",
              "      <td>INCO.JK</td>\n",
              "      <td>2024-10-21</td>\n",
              "      <td>48.478271</td>\n",
              "    </tr>\n",
              "    <tr>\n",
              "      <th>1908</th>\n",
              "      <td>KLBF.JK</td>\n",
              "      <td>2024-10-21</td>\n",
              "      <td>43.320610</td>\n",
              "    </tr>\n",
              "    <tr>\n",
              "      <th>1909</th>\n",
              "      <td>ANTM.JK</td>\n",
              "      <td>2024-10-21</td>\n",
              "      <td>68.232248</td>\n",
              "    </tr>\n",
              "    <tr>\n",
              "      <th>1910</th>\n",
              "      <td>INDF.JK</td>\n",
              "      <td>2024-10-21</td>\n",
              "      <td>55.608289</td>\n",
              "    </tr>\n",
              "    <tr>\n",
              "      <th>1911</th>\n",
              "      <td>CPIN.JK</td>\n",
              "      <td>2024-10-21</td>\n",
              "      <td>50.104582</td>\n",
              "    </tr>\n",
              "  </tbody>\n",
              "</table>\n",
              "<p>1912 rows × 3 columns</p>\n",
              "</div>"
            ],
            "text/plain": [
              "       symbol        date  scaled_strength_index\n",
              "0     BUKA.JK  2024-07-23              41.097722\n",
              "1     ARTO.JK  2024-07-23              41.097722\n",
              "2     BBRI.JK  2024-07-23              41.097722\n",
              "3     AKRA.JK  2024-07-23              41.097722\n",
              "4     CPIN.JK  2024-07-23              41.097722\n",
              "...       ...         ...                    ...\n",
              "1907  INCO.JK  2024-10-21              48.478271\n",
              "1908  KLBF.JK  2024-10-21              43.320610\n",
              "1909  ANTM.JK  2024-10-21              68.232248\n",
              "1910  INDF.JK  2024-10-21              55.608289\n",
              "1911  CPIN.JK  2024-10-21              50.104582\n",
              "\n",
              "[1912 rows x 3 columns]"
            ]
          },
          "execution_count": 30,
          "metadata": {},
          "output_type": "execute_result"
        }
      ],
      "source": [
        "df_copy_ps[['symbol', 'date', 'scaled_strength_index']].dropna()"
      ]
    },
    {
      "cell_type": "code",
      "execution_count": 32,
      "metadata": {
        "id": "32KI1IoE5w3W"
      },
      "outputs": [],
      "source": [
        "# Group by 'date' and calculate the mean of 'scaled_strength_index' for each day\n",
        "daily_mean_strength_index = df_copy_ps.groupby('date')['scaled_strength_index'].mean().reset_index()"
      ]
    },
    {
      "cell_type": "code",
      "execution_count": 33,
      "metadata": {
        "id": "LbS7Wgts6lSi"
      },
      "outputs": [
        {
          "data": {
            "text/html": [
              "<div>\n",
              "<style scoped>\n",
              "    .dataframe tbody tr th:only-of-type {\n",
              "        vertical-align: middle;\n",
              "    }\n",
              "\n",
              "    .dataframe tbody tr th {\n",
              "        vertical-align: top;\n",
              "    }\n",
              "\n",
              "    .dataframe thead th {\n",
              "        text-align: right;\n",
              "    }\n",
              "</style>\n",
              "<table border=\"1\" class=\"dataframe\">\n",
              "  <thead>\n",
              "    <tr style=\"text-align: right;\">\n",
              "      <th></th>\n",
              "      <th>date</th>\n",
              "      <th>scaled_strength_index</th>\n",
              "    </tr>\n",
              "  </thead>\n",
              "  <tbody>\n",
              "    <tr>\n",
              "      <th>0</th>\n",
              "      <td>2024-07-23</td>\n",
              "      <td>41.097722</td>\n",
              "    </tr>\n",
              "    <tr>\n",
              "      <th>1</th>\n",
              "      <td>2024-07-24</td>\n",
              "      <td>41.097722</td>\n",
              "    </tr>\n",
              "    <tr>\n",
              "      <th>2</th>\n",
              "      <td>2024-07-25</td>\n",
              "      <td>41.097722</td>\n",
              "    </tr>\n",
              "    <tr>\n",
              "      <th>3</th>\n",
              "      <td>2024-07-26</td>\n",
              "      <td>41.097722</td>\n",
              "    </tr>\n",
              "    <tr>\n",
              "      <th>4</th>\n",
              "      <td>2024-07-29</td>\n",
              "      <td>41.097722</td>\n",
              "    </tr>\n",
              "    <tr>\n",
              "      <th>...</th>\n",
              "      <td>...</td>\n",
              "      <td>...</td>\n",
              "    </tr>\n",
              "    <tr>\n",
              "      <th>59</th>\n",
              "      <td>2024-10-15</td>\n",
              "      <td>45.049467</td>\n",
              "    </tr>\n",
              "    <tr>\n",
              "      <th>60</th>\n",
              "      <td>2024-10-16</td>\n",
              "      <td>42.758110</td>\n",
              "    </tr>\n",
              "    <tr>\n",
              "      <th>61</th>\n",
              "      <td>2024-10-17</td>\n",
              "      <td>45.071591</td>\n",
              "    </tr>\n",
              "    <tr>\n",
              "      <th>62</th>\n",
              "      <td>2024-10-18</td>\n",
              "      <td>47.441832</td>\n",
              "    </tr>\n",
              "    <tr>\n",
              "      <th>63</th>\n",
              "      <td>2024-10-21</td>\n",
              "      <td>48.058773</td>\n",
              "    </tr>\n",
              "  </tbody>\n",
              "</table>\n",
              "<p>64 rows × 2 columns</p>\n",
              "</div>"
            ],
            "text/plain": [
              "          date  scaled_strength_index\n",
              "0   2024-07-23              41.097722\n",
              "1   2024-07-24              41.097722\n",
              "2   2024-07-25              41.097722\n",
              "3   2024-07-26              41.097722\n",
              "4   2024-07-29              41.097722\n",
              "..         ...                    ...\n",
              "59  2024-10-15              45.049467\n",
              "60  2024-10-16              42.758110\n",
              "61  2024-10-17              45.071591\n",
              "62  2024-10-18              47.441832\n",
              "63  2024-10-21              48.058773\n",
              "\n",
              "[64 rows x 2 columns]"
            ]
          },
          "execution_count": 33,
          "metadata": {},
          "output_type": "execute_result"
        }
      ],
      "source": [
        "daily_mean_strength_index"
      ]
    },
    {
      "cell_type": "code",
      "execution_count": 34,
      "metadata": {
        "id": "P7fOPk86rHdh"
      },
      "outputs": [
        {
          "name": "stdout",
          "output_type": "stream",
          "text": [
            "Today´s Stock Price Strength Fear and Greed index is:  48.05877333465128\n"
          ]
        }
      ],
      "source": [
        "print ('Today´s Stock Price Strength Fear and Greed index is: ', daily_mean_strength_index.iloc[-1,-1])"
      ]
    },
    {
      "cell_type": "code",
      "execution_count": 35,
      "metadata": {
        "id": "jH_fthPY7MFl"
      },
      "outputs": [
        {
          "data": {
            "image/png": "[encoded data removed]",
            "text/plain": [
              "<Figure size 1200x600 with 1 Axes>"
            ]
          },
          "metadata": {},
          "output_type": "display_data"
        }
      ],
      "source": [
        "import seaborn as sns\n",
        "\n",
        "# Set up the plot style\n",
        "sns.set(style=\"whitegrid\")\n",
        "\n",
        "# Set up the plot\n",
        "fig, ax = plt.subplots(figsize=(12, 6))\n",
        "\n",
        "# Plot the daily mean strength index\n",
        "ax.plot(daily_mean_strength_index['date'], daily_mean_strength_index['scaled_strength_index'], color='blue', linewidth=2, label='Mean Stock Price Strength Index')\n",
        "\n",
        "# Highlight the \"Fear\" and \"Greed\" zones\n",
        "ax.fill_between(daily_mean_strength_index['date'], 0, 50, color='red', alpha=0.2, label='Fear Zone')\n",
        "ax.fill_between(daily_mean_strength_index['date'], 50, 100, color='green', alpha=0.2, label='Greed Zone')\n",
        "\n",
        "# Formatting the x-axis for readability\n",
        "ax.xaxis.set_major_formatter(mdates.DateFormatter('%b %d'))\n",
        "ax.xaxis.set_major_locator(mdates.WeekdayLocator(interval=5))\n",
        "plt.xticks(rotation=45)\n",
        "\n",
        "# Adding labels and title\n",
        "plt.title(\"Daily Stock Price Strength Index - Fear and Greed Index\", fontsize=16, fontweight='bold')\n",
        "plt.xlabel(\"Date\", fontsize=12)\n",
        "plt.ylabel(\"Scaled Strength Index (0-100)\", fontsize=12)\n",
        "\n",
        "# Adding grid for better visual guidance\n",
        "plt.grid(visible=True, linestyle='--', alpha=0.6)\n",
        "\n",
        "# Adding legend\n",
        "plt.legend(loc='upper left')\n",
        "\n",
        "# Display the plot\n",
        "plt.tight_layout()\n",
        "plt.show()"
      ]
    },
    {
      "cell_type": "markdown",
      "metadata": {
        "id": "S66uFWwo7iok"
      },
      "source": [
        "# 3 - Volatility"
      ]
    },
    {
      "cell_type": "code",
      "execution_count": 36,
      "metadata": {
        "id": "YXUZWmkN8tRF"
      },
      "outputs": [],
      "source": [
        "# consolidate the original df\n",
        "history_idx30_df = history_idx30_df[['symbol', 'date', 'close', 'volume', 'market_cap']]"
      ]
    },
    {
      "cell_type": "code",
      "execution_count": 37,
      "metadata": {
        "id": "IZeyQyzX70Oq"
      },
      "outputs": [],
      "source": [
        "# Create a copy of the original DataFrame\n",
        "df_copy_vol = history_idx30_df.copy()"
      ]
    },
    {
      "cell_type": "code",
      "execution_count": 38,
      "metadata": {
        "id": "phGWxeE774zi"
      },
      "outputs": [
        {
          "data": {
            "text/html": [
              "<div>\n",
              "<style scoped>\n",
              "    .dataframe tbody tr th:only-of-type {\n",
              "        vertical-align: middle;\n",
              "    }\n",
              "\n",
              "    .dataframe tbody tr th {\n",
              "        vertical-align: top;\n",
              "    }\n",
              "\n",
              "    .dataframe thead th {\n",
              "        text-align: right;\n",
              "    }\n",
              "</style>\n",
              "<table border=\"1\" class=\"dataframe\">\n",
              "  <thead>\n",
              "    <tr style=\"text-align: right;\">\n",
              "      <th></th>\n",
              "      <th>symbol</th>\n",
              "      <th>date</th>\n",
              "      <th>close</th>\n",
              "      <th>volume</th>\n",
              "      <th>market_cap</th>\n",
              "    </tr>\n",
              "  </thead>\n",
              "  <tbody>\n",
              "    <tr>\n",
              "      <th>0</th>\n",
              "      <td>BUKA.JK</td>\n",
              "      <td>2024-07-23</td>\n",
              "      <td>127</td>\n",
              "      <td>248044100</td>\n",
              "      <td>13094843580416</td>\n",
              "    </tr>\n",
              "    <tr>\n",
              "      <th>1</th>\n",
              "      <td>ARTO.JK</td>\n",
              "      <td>2024-07-23</td>\n",
              "      <td>2530</td>\n",
              "      <td>35056400</td>\n",
              "      <td>34707551027200</td>\n",
              "    </tr>\n",
              "    <tr>\n",
              "      <th>2</th>\n",
              "      <td>BBRI.JK</td>\n",
              "      <td>2024-07-23</td>\n",
              "      <td>4790</td>\n",
              "      <td>170919500</td>\n",
              "      <td>722288878026752</td>\n",
              "    </tr>\n",
              "    <tr>\n",
              "      <th>3</th>\n",
              "      <td>AKRA.JK</td>\n",
              "      <td>2024-07-23</td>\n",
              "      <td>1505</td>\n",
              "      <td>14435800</td>\n",
              "      <td>29704486649856</td>\n",
              "    </tr>\n",
              "    <tr>\n",
              "      <th>4</th>\n",
              "      <td>CPIN.JK</td>\n",
              "      <td>2024-07-23</td>\n",
              "      <td>5400</td>\n",
              "      <td>4151500</td>\n",
              "      <td>88549198135296</td>\n",
              "    </tr>\n",
              "  </tbody>\n",
              "</table>\n",
              "</div>"
            ],
            "text/plain": [
              "    symbol        date  close     volume       market_cap\n",
              "0  BUKA.JK  2024-07-23    127  248044100   13094843580416\n",
              "1  ARTO.JK  2024-07-23   2530   35056400   34707551027200\n",
              "2  BBRI.JK  2024-07-23   4790  170919500  722288878026752\n",
              "3  AKRA.JK  2024-07-23   1505   14435800   29704486649856\n",
              "4  CPIN.JK  2024-07-23   5400    4151500   88549198135296"
            ]
          },
          "execution_count": 38,
          "metadata": {},
          "output_type": "execute_result"
        }
      ],
      "source": [
        "df_copy_vol.head()"
      ]
    },
    {
      "cell_type": "code",
      "execution_count": 39,
      "metadata": {
        "id": "0KMhVezm8TJP"
      },
      "outputs": [
        {
          "data": {
            "text/html": [
              "<div>\n",
              "<style scoped>\n",
              "    .dataframe tbody tr th:only-of-type {\n",
              "        vertical-align: middle;\n",
              "    }\n",
              "\n",
              "    .dataframe tbody tr th {\n",
              "        vertical-align: top;\n",
              "    }\n",
              "\n",
              "    .dataframe thead th {\n",
              "        text-align: right;\n",
              "    }\n",
              "</style>\n",
              "<table border=\"1\" class=\"dataframe\">\n",
              "  <thead>\n",
              "    <tr style=\"text-align: right;\">\n",
              "      <th></th>\n",
              "      <th>symbol</th>\n",
              "      <th>date</th>\n",
              "      <th>close</th>\n",
              "      <th>volume</th>\n",
              "      <th>market_cap</th>\n",
              "    </tr>\n",
              "  </thead>\n",
              "  <tbody>\n",
              "    <tr>\n",
              "      <th>0</th>\n",
              "      <td>BUKA.JK</td>\n",
              "      <td>2024-07-23</td>\n",
              "      <td>127</td>\n",
              "      <td>248044100</td>\n",
              "      <td>13094843580416</td>\n",
              "    </tr>\n",
              "    <tr>\n",
              "      <th>1</th>\n",
              "      <td>ARTO.JK</td>\n",
              "      <td>2024-07-23</td>\n",
              "      <td>2530</td>\n",
              "      <td>35056400</td>\n",
              "      <td>34707551027200</td>\n",
              "    </tr>\n",
              "    <tr>\n",
              "      <th>2</th>\n",
              "      <td>BBRI.JK</td>\n",
              "      <td>2024-07-23</td>\n",
              "      <td>4790</td>\n",
              "      <td>170919500</td>\n",
              "      <td>722288878026752</td>\n",
              "    </tr>\n",
              "    <tr>\n",
              "      <th>3</th>\n",
              "      <td>AKRA.JK</td>\n",
              "      <td>2024-07-23</td>\n",
              "      <td>1505</td>\n",
              "      <td>14435800</td>\n",
              "      <td>29704486649856</td>\n",
              "    </tr>\n",
              "    <tr>\n",
              "      <th>4</th>\n",
              "      <td>CPIN.JK</td>\n",
              "      <td>2024-07-23</td>\n",
              "      <td>5400</td>\n",
              "      <td>4151500</td>\n",
              "      <td>88549198135296</td>\n",
              "    </tr>\n",
              "  </tbody>\n",
              "</table>\n",
              "</div>"
            ],
            "text/plain": [
              "    symbol        date  close     volume       market_cap\n",
              "0  BUKA.JK  2024-07-23    127  248044100   13094843580416\n",
              "1  ARTO.JK  2024-07-23   2530   35056400   34707551027200\n",
              "2  BBRI.JK  2024-07-23   4790  170919500  722288878026752\n",
              "3  AKRA.JK  2024-07-23   1505   14435800   29704486649856\n",
              "4  CPIN.JK  2024-07-23   5400    4151500   88549198135296"
            ]
          },
          "execution_count": 39,
          "metadata": {},
          "output_type": "execute_result"
        }
      ],
      "source": [
        "history_idx30_df.head()"
      ]
    },
    {
      "cell_type": "code",
      "execution_count": 40,
      "metadata": {
        "id": "16eZA3a19msX"
      },
      "outputs": [],
      "source": [
        "# Calculate the daily percentage change in 'close' price for each symbol\n",
        "df_copy_vol['daily_return'] = df_copy_vol.groupby('symbol')['close'].pct_change()"
      ]
    },
    {
      "cell_type": "code",
      "execution_count": 41,
      "metadata": {
        "id": "BGpA9YYy9oYc"
      },
      "outputs": [],
      "source": [
        "# Calculate the 7-day rolling standard deviation (volatility) of the daily returns for each symbol\n",
        "df_copy_vol['volatility_7d'] = df_copy_vol.groupby('symbol')['daily_return'].transform(lambda x: x.rolling(window=7).std())"
      ]
    },
    {
      "cell_type": "code",
      "execution_count": 42,
      "metadata": {
        "collapsed": true,
        "id": "o-g3UnUZ9uB_"
      },
      "outputs": [
        {
          "name": "stderr",
          "output_type": "stream",
          "text": [
            "C:\\Users\\Johann\\AppData\\Local\\Temp\\ipykernel_7544\\3459160738.py:2: FutureWarning: A value is trying to be set on a copy of a DataFrame or Series through chained assignment using an inplace method.\n",
            "The behavior will change in pandas 3.0. This inplace method will never work because the intermediate object on which we are setting values always behaves as a copy.\n",
            "\n",
            "For example, when doing 'df[col].method(value, inplace=True)', try using 'df.method({col: value}, inplace=True)' or df[col] = df[col].method(value) instead, to perform the operation inplace on the original object.\n",
            "\n",
            "\n",
            "  df_copy_vol['volatility_7d'].replace([np.inf, -np.inf], np.nan, inplace=True)\n",
            "C:\\Users\\Johann\\AppData\\Local\\Temp\\ipykernel_7544\\3459160738.py:3: FutureWarning: A value is trying to be set on a copy of a DataFrame or Series through chained assignment using an inplace method.\n",
            "The behavior will change in pandas 3.0. This inplace method will never work because the intermediate object on which we are setting values always behaves as a copy.\n",
            "\n",
            "For example, when doing 'df[col].method(value, inplace=True)', try using 'df.method({col: value}, inplace=True)' or df[col] = df[col].method(value) instead, to perform the operation inplace on the original object.\n",
            "\n",
            "\n",
            "  df_copy_vol['volatility_7d'].fillna(0, inplace=True)\n"
          ]
        }
      ],
      "source": [
        "# Handle zero division by replacing any infinite or NaN values in 'volatility_7d' with zeros\n",
        "df_copy_vol['volatility_7d'].replace([np.inf, -np.inf], np.nan, inplace=True)\n",
        "df_copy_vol['volatility_7d'].fillna(0, inplace=True)"
      ]
    },
    {
      "cell_type": "code",
      "execution_count": 43,
      "metadata": {
        "id": "xcukKHfs9ylf"
      },
      "outputs": [],
      "source": [
        "# Scale the volatility on a 0 to 100 scale for the fear and greed index context\n",
        "min_vol = df_copy_vol['volatility_7d'].min()\n",
        "max_vol = df_copy_vol['volatility_7d'].max()"
      ]
    },
    {
      "cell_type": "code",
      "execution_count": 44,
      "metadata": {
        "id": "5jCstB3X92f0"
      },
      "outputs": [],
      "source": [
        "# Avoid division by zero in scaling\n",
        "if max_vol - min_vol == 0:\n",
        "    df_copy_vol['scaled_volatility_index'] = 0\n",
        "else:\n",
        "    df_copy_vol['scaled_volatility_index'] = ((df_copy_vol['volatility_7d'] - min_vol) / (max_vol - min_vol)) * 100"
      ]
    },
    {
      "cell_type": "code",
      "execution_count": 45,
      "metadata": {
        "id": "GsKrwMdF97OK"
      },
      "outputs": [],
      "source": [
        "df_copy_vol = df_copy_vol[['symbol', 'date', 'scaled_volatility_index']].dropna()"
      ]
    },
    {
      "cell_type": "code",
      "execution_count": 46,
      "metadata": {
        "id": "iXDarLzl-CyM"
      },
      "outputs": [],
      "source": [
        "df_copy_vol = df_copy_vol.groupby('date')['scaled_volatility_index'].mean().reset_index()"
      ]
    },
    {
      "cell_type": "code",
      "execution_count": 47,
      "metadata": {
        "id": "RAE23tFK-HjJ"
      },
      "outputs": [
        {
          "data": {
            "text/html": [
              "<div>\n",
              "<style scoped>\n",
              "    .dataframe tbody tr th:only-of-type {\n",
              "        vertical-align: middle;\n",
              "    }\n",
              "\n",
              "    .dataframe tbody tr th {\n",
              "        vertical-align: top;\n",
              "    }\n",
              "\n",
              "    .dataframe thead th {\n",
              "        text-align: right;\n",
              "    }\n",
              "</style>\n",
              "<table border=\"1\" class=\"dataframe\">\n",
              "  <thead>\n",
              "    <tr style=\"text-align: right;\">\n",
              "      <th></th>\n",
              "      <th>date</th>\n",
              "      <th>scaled_volatility_index</th>\n",
              "    </tr>\n",
              "  </thead>\n",
              "  <tbody>\n",
              "    <tr>\n",
              "      <th>0</th>\n",
              "      <td>2024-07-23</td>\n",
              "      <td>0.000000</td>\n",
              "    </tr>\n",
              "    <tr>\n",
              "      <th>1</th>\n",
              "      <td>2024-07-24</td>\n",
              "      <td>0.000000</td>\n",
              "    </tr>\n",
              "    <tr>\n",
              "      <th>2</th>\n",
              "      <td>2024-07-25</td>\n",
              "      <td>0.000000</td>\n",
              "    </tr>\n",
              "    <tr>\n",
              "      <th>3</th>\n",
              "      <td>2024-07-26</td>\n",
              "      <td>0.000000</td>\n",
              "    </tr>\n",
              "    <tr>\n",
              "      <th>4</th>\n",
              "      <td>2024-07-29</td>\n",
              "      <td>0.000000</td>\n",
              "    </tr>\n",
              "    <tr>\n",
              "      <th>...</th>\n",
              "      <td>...</td>\n",
              "      <td>...</td>\n",
              "    </tr>\n",
              "    <tr>\n",
              "      <th>59</th>\n",
              "      <td>2024-10-15</td>\n",
              "      <td>18.316627</td>\n",
              "    </tr>\n",
              "    <tr>\n",
              "      <th>60</th>\n",
              "      <td>2024-10-16</td>\n",
              "      <td>16.375113</td>\n",
              "    </tr>\n",
              "    <tr>\n",
              "      <th>61</th>\n",
              "      <td>2024-10-17</td>\n",
              "      <td>14.994547</td>\n",
              "    </tr>\n",
              "    <tr>\n",
              "      <th>62</th>\n",
              "      <td>2024-10-18</td>\n",
              "      <td>14.963958</td>\n",
              "    </tr>\n",
              "    <tr>\n",
              "      <th>63</th>\n",
              "      <td>2024-10-21</td>\n",
              "      <td>14.652515</td>\n",
              "    </tr>\n",
              "  </tbody>\n",
              "</table>\n",
              "<p>64 rows × 2 columns</p>\n",
              "</div>"
            ],
            "text/plain": [
              "          date  scaled_volatility_index\n",
              "0   2024-07-23                 0.000000\n",
              "1   2024-07-24                 0.000000\n",
              "2   2024-07-25                 0.000000\n",
              "3   2024-07-26                 0.000000\n",
              "4   2024-07-29                 0.000000\n",
              "..         ...                      ...\n",
              "59  2024-10-15                18.316627\n",
              "60  2024-10-16                16.375113\n",
              "61  2024-10-17                14.994547\n",
              "62  2024-10-18                14.963958\n",
              "63  2024-10-21                14.652515\n",
              "\n",
              "[64 rows x 2 columns]"
            ]
          },
          "execution_count": 47,
          "metadata": {},
          "output_type": "execute_result"
        }
      ],
      "source": [
        "df_copy_vol"
      ]
    },
    {
      "cell_type": "code",
      "execution_count": 48,
      "metadata": {
        "id": "OuUjP8Bv-3BW"
      },
      "outputs": [
        {
          "name": "stdout",
          "output_type": "stream",
          "text": [
            "Today´s Volatility Fear and Greed index is:  14.652515410754775\n"
          ]
        }
      ],
      "source": [
        "print('Today´s Volatility Fear and Greed index is: ', df_copy_vol.iloc[-1,-1])"
      ]
    },
    {
      "cell_type": "code",
      "execution_count": 49,
      "metadata": {
        "id": "Bg_wJd7e-qm4"
      },
      "outputs": [
        {
          "data": {
            "image/png": "[encoded data removed]",
            "text/plain": [
              "<Figure size 1200x600 with 1 Axes>"
            ]
          },
          "metadata": {},
          "output_type": "display_data"
        }
      ],
      "source": [
        "sns.set(style=\"whitegrid\")\n",
        "\n",
        "# Set up the plot\n",
        "fig, ax = plt.subplots(figsize=(12, 6))\n",
        "\n",
        "# Plot the scaled volatility index over time\n",
        "ax.plot(df_copy_vol['date'], df_copy_vol['scaled_volatility_index'], color='blue', linewidth=2, label='Volatility Index')\n",
        "\n",
        "# Highlight the \"Fear\" and \"Greed\" zones\n",
        "ax.fill_between(df_copy_vol['date'], 0, 50, color='red', alpha=0.2, label='Fear Zone')\n",
        "ax.fill_between(df_copy_vol['date'], 50, 100, color='green', alpha=0.2, label='Greed Zone')\n",
        "\n",
        "# Formatting the x-axis for readability\n",
        "ax.xaxis.set_major_formatter(mdates.DateFormatter('%b %d'))\n",
        "ax.xaxis.set_major_locator(mdates.WeekdayLocator(interval=5))\n",
        "plt.xticks(rotation=45)\n",
        "\n",
        "# Adding labels and title\n",
        "plt.title(\"Market Volatility Index - Fear and Greed Context\", fontsize=16, fontweight='bold')\n",
        "plt.xlabel(\"Date\", fontsize=12)\n",
        "plt.ylabel(\"Scaled Volatility Index (0-100)\", fontsize=12)\n",
        "\n",
        "# Adding grid for better visual guidance\n",
        "plt.grid(visible=True, linestyle='--', alpha=0.6)\n",
        "\n",
        "# Adding legend\n",
        "plt.legend(loc='upper left')\n",
        "\n",
        "# Display the plot\n",
        "plt.tight_layout()\n",
        "plt.show()"
      ]
    },
    {
      "cell_type": "markdown",
      "metadata": {
        "id": "XDxVohE_qtGy"
      },
      "source": [
        "# 4 - Volume Breadth"
      ]
    },
    {
      "cell_type": "code",
      "execution_count": 50,
      "metadata": {
        "collapsed": true,
        "id": "qK1zdt4dq5Yh"
      },
      "outputs": [
        {
          "data": {
            "text/html": [
              "<div>\n",
              "<style scoped>\n",
              "    .dataframe tbody tr th:only-of-type {\n",
              "        vertical-align: middle;\n",
              "    }\n",
              "\n",
              "    .dataframe tbody tr th {\n",
              "        vertical-align: top;\n",
              "    }\n",
              "\n",
              "    .dataframe thead th {\n",
              "        text-align: right;\n",
              "    }\n",
              "</style>\n",
              "<table border=\"1\" class=\"dataframe\">\n",
              "  <thead>\n",
              "    <tr style=\"text-align: right;\">\n",
              "      <th></th>\n",
              "      <th>symbol</th>\n",
              "      <th>date</th>\n",
              "      <th>close</th>\n",
              "      <th>volume</th>\n",
              "      <th>market_cap</th>\n",
              "    </tr>\n",
              "  </thead>\n",
              "  <tbody>\n",
              "    <tr>\n",
              "      <th>0</th>\n",
              "      <td>BUKA.JK</td>\n",
              "      <td>2024-07-23</td>\n",
              "      <td>127</td>\n",
              "      <td>248044100</td>\n",
              "      <td>13094843580416</td>\n",
              "    </tr>\n",
              "    <tr>\n",
              "      <th>1</th>\n",
              "      <td>ARTO.JK</td>\n",
              "      <td>2024-07-23</td>\n",
              "      <td>2530</td>\n",
              "      <td>35056400</td>\n",
              "      <td>34707551027200</td>\n",
              "    </tr>\n",
              "    <tr>\n",
              "      <th>2</th>\n",
              "      <td>BBRI.JK</td>\n",
              "      <td>2024-07-23</td>\n",
              "      <td>4790</td>\n",
              "      <td>170919500</td>\n",
              "      <td>722288878026752</td>\n",
              "    </tr>\n",
              "    <tr>\n",
              "      <th>3</th>\n",
              "      <td>AKRA.JK</td>\n",
              "      <td>2024-07-23</td>\n",
              "      <td>1505</td>\n",
              "      <td>14435800</td>\n",
              "      <td>29704486649856</td>\n",
              "    </tr>\n",
              "    <tr>\n",
              "      <th>4</th>\n",
              "      <td>CPIN.JK</td>\n",
              "      <td>2024-07-23</td>\n",
              "      <td>5400</td>\n",
              "      <td>4151500</td>\n",
              "      <td>88549198135296</td>\n",
              "    </tr>\n",
              "    <tr>\n",
              "      <th>...</th>\n",
              "      <td>...</td>\n",
              "      <td>...</td>\n",
              "      <td>...</td>\n",
              "      <td>...</td>\n",
              "      <td>...</td>\n",
              "    </tr>\n",
              "    <tr>\n",
              "      <th>1907</th>\n",
              "      <td>INCO.JK</td>\n",
              "      <td>2024-10-21</td>\n",
              "      <td>4250</td>\n",
              "      <td>26332400</td>\n",
              "      <td>44794147504128</td>\n",
              "    </tr>\n",
              "    <tr>\n",
              "      <th>1908</th>\n",
              "      <td>KLBF.JK</td>\n",
              "      <td>2024-10-21</td>\n",
              "      <td>1660</td>\n",
              "      <td>28486500</td>\n",
              "      <td>76763715600384</td>\n",
              "    </tr>\n",
              "    <tr>\n",
              "      <th>1909</th>\n",
              "      <td>ANTM.JK</td>\n",
              "      <td>2024-10-21</td>\n",
              "      <td>1690</td>\n",
              "      <td>243375700</td>\n",
              "      <td>40612053123072</td>\n",
              "    </tr>\n",
              "    <tr>\n",
              "      <th>1910</th>\n",
              "      <td>INDF.JK</td>\n",
              "      <td>2024-10-21</td>\n",
              "      <td>7400</td>\n",
              "      <td>8431800</td>\n",
              "      <td>64975183806464</td>\n",
              "    </tr>\n",
              "    <tr>\n",
              "      <th>1911</th>\n",
              "      <td>CPIN.JK</td>\n",
              "      <td>2024-10-21</td>\n",
              "      <td>5050</td>\n",
              "      <td>5445000</td>\n",
              "      <td>82809897091072</td>\n",
              "    </tr>\n",
              "  </tbody>\n",
              "</table>\n",
              "<p>1912 rows × 5 columns</p>\n",
              "</div>"
            ],
            "text/plain": [
              "       symbol        date  close     volume       market_cap\n",
              "0     BUKA.JK  2024-07-23    127  248044100   13094843580416\n",
              "1     ARTO.JK  2024-07-23   2530   35056400   34707551027200\n",
              "2     BBRI.JK  2024-07-23   4790  170919500  722288878026752\n",
              "3     AKRA.JK  2024-07-23   1505   14435800   29704486649856\n",
              "4     CPIN.JK  2024-07-23   5400    4151500   88549198135296\n",
              "...       ...         ...    ...        ...              ...\n",
              "1907  INCO.JK  2024-10-21   4250   26332400   44794147504128\n",
              "1908  KLBF.JK  2024-10-21   1660   28486500   76763715600384\n",
              "1909  ANTM.JK  2024-10-21   1690  243375700   40612053123072\n",
              "1910  INDF.JK  2024-10-21   7400    8431800   64975183806464\n",
              "1911  CPIN.JK  2024-10-21   5050    5445000   82809897091072\n",
              "\n",
              "[1912 rows x 5 columns]"
            ]
          },
          "execution_count": 50,
          "metadata": {},
          "output_type": "execute_result"
        }
      ],
      "source": [
        "history_idx30_df"
      ]
    },
    {
      "cell_type": "code",
      "execution_count": 51,
      "metadata": {
        "id": "PCCYlBwFtkDU"
      },
      "outputs": [],
      "source": [
        "df_vb_copy = history_idx30_df.copy()"
      ]
    },
    {
      "cell_type": "code",
      "execution_count": 52,
      "metadata": {
        "id": "g1bL2pcC0i2p"
      },
      "outputs": [],
      "source": [
        "# Identify advancing and declining stocks\n",
        "# Calculate whether the stock is advancing or declining based on the 'close' price\n",
        "df_vb_copy['advancing'] = df_vb_copy.groupby('symbol')['close'].diff() > 0\n",
        "df_vb_copy['declining'] = df_vb_copy.groupby('symbol')['close'].diff() < 0"
      ]
    },
    {
      "cell_type": "code",
      "execution_count": 53,
      "metadata": {
        "id": "oxmmxUK30rhm"
      },
      "outputs": [],
      "source": [
        "# Calculate total volume of advancing and declining stocks for each date\n",
        "# Advancing volume\n",
        "df_vb_copy['advancing_volume'] = df_vb_copy['volume'] * df_vb_copy['advancing']\n",
        "# Declining volume\n",
        "df_vb_copy['declining_volume'] = df_vb_copy['volume'] * df_vb_copy['declining']"
      ]
    },
    {
      "cell_type": "code",
      "execution_count": 54,
      "metadata": {
        "id": "8nZ8G5DW0wDH"
      },
      "outputs": [],
      "source": [
        "# Group by date to get total advancing and declining volumes for each day\n",
        "daily_volume = df_vb_copy.groupby('date').agg({\n",
        "    'advancing_volume': 'sum',\n",
        "    'declining_volume': 'sum'\n",
        "}).reset_index()"
      ]
    },
    {
      "cell_type": "code",
      "execution_count": 55,
      "metadata": {
        "id": "T1FRyDY500Au"
      },
      "outputs": [],
      "source": [
        "# Calculate Volume Breadth\n",
        "# Avoid division by zero by handling cases where declining volume is zero\n",
        "daily_volume['volume_breadth'] = daily_volume.apply(\n",
        "    lambda row: row['advancing_volume'] / row['declining_volume'] if row['declining_volume'] != 0 else np.nan,axis=1\n",
        ")"
      ]
    },
    {
      "cell_type": "code",
      "execution_count": 56,
      "metadata": {
        "id": "9qDt2h8L07K2"
      },
      "outputs": [],
      "source": [
        "# Apply the 7-day SMA to the Volume Breadth to smooth the values\n",
        "daily_volume['sma_7d_vb'] = daily_volume['volume_breadth'].rolling(window=7).mean()"
      ]
    },
    {
      "cell_type": "code",
      "execution_count": 57,
      "metadata": {
        "collapsed": true,
        "id": "Dicm41yA1DQE"
      },
      "outputs": [
        {
          "name": "stderr",
          "output_type": "stream",
          "text": [
            "C:\\Users\\Johann\\AppData\\Local\\Temp\\ipykernel_7544\\1520035415.py:2: FutureWarning: A value is trying to be set on a copy of a DataFrame or Series through chained assignment using an inplace method.\n",
            "The behavior will change in pandas 3.0. This inplace method will never work because the intermediate object on which we are setting values always behaves as a copy.\n",
            "\n",
            "For example, when doing 'df[col].method(value, inplace=True)', try using 'df.method({col: value}, inplace=True)' or df[col] = df[col].method(value) instead, to perform the operation inplace on the original object.\n",
            "\n",
            "\n",
            "  daily_volume['sma_7d_vb'].replace([np.inf, -np.inf], np.nan, inplace=True)\n",
            "C:\\Users\\Johann\\AppData\\Local\\Temp\\ipykernel_7544\\1520035415.py:3: FutureWarning: A value is trying to be set on a copy of a DataFrame or Series through chained assignment using an inplace method.\n",
            "The behavior will change in pandas 3.0. This inplace method will never work because the intermediate object on which we are setting values always behaves as a copy.\n",
            "\n",
            "For example, when doing 'df[col].method(value, inplace=True)', try using 'df.method({col: value}, inplace=True)' or df[col] = df[col].method(value) instead, to perform the operation inplace on the original object.\n",
            "\n",
            "\n",
            "  daily_volume['sma_7d_vb'].fillna(0, inplace=True)\n"
          ]
        }
      ],
      "source": [
        "# Handle NaN or infinite values in the SMA with zeros (for stability)\n",
        "daily_volume['sma_7d_vb'].replace([np.inf, -np.inf], np.nan, inplace=True)\n",
        "daily_volume['sma_7d_vb'].fillna(0, inplace=True)"
      ]
    },
    {
      "cell_type": "code",
      "execution_count": 58,
      "metadata": {
        "id": "zhiKqG5m1GAj"
      },
      "outputs": [],
      "source": [
        "# Scale the Volume Breadth for the fear and greed index context\n",
        "# Min and max for scaling\n",
        "min_vb = daily_volume['sma_7d_vb'].min()\n",
        "max_vb = daily_volume['sma_7d_vb'].max()"
      ]
    },
    {
      "cell_type": "code",
      "execution_count": 59,
      "metadata": {
        "id": "t-Rp2qfX1J62"
      },
      "outputs": [],
      "source": [
        "# Scale between 0 and 100, with protection against division by zero\n",
        "if max_vb - min_vb == 0:\n",
        "    daily_volume['scaled_vb'] = 0\n",
        "else:\n",
        "    daily_volume['scaled_vb'] = ((daily_volume['sma_7d_vb'] - min_vb) / (max_vb - min_vb)) * 100"
      ]
    },
    {
      "cell_type": "code",
      "execution_count": 60,
      "metadata": {
        "id": "YKdKh8dJ1Off"
      },
      "outputs": [],
      "source": [
        "# Replace 0 and 100 values with the mean\n",
        "mean_scaled_vb = daily_volume['scaled_vb'].mean()\n",
        "daily_volume['scaled_vb'] = daily_volume['scaled_vb'].apply(lambda x: mean_scaled_vb if x == 0 or x == 100 else x)"
      ]
    },
    {
      "cell_type": "code",
      "execution_count": 61,
      "metadata": {
        "id": "qNnsxSha1Rv4"
      },
      "outputs": [
        {
          "data": {
            "text/html": [
              "<div>\n",
              "<style scoped>\n",
              "    .dataframe tbody tr th:only-of-type {\n",
              "        vertical-align: middle;\n",
              "    }\n",
              "\n",
              "    .dataframe tbody tr th {\n",
              "        vertical-align: top;\n",
              "    }\n",
              "\n",
              "    .dataframe thead th {\n",
              "        text-align: right;\n",
              "    }\n",
              "</style>\n",
              "<table border=\"1\" class=\"dataframe\">\n",
              "  <thead>\n",
              "    <tr style=\"text-align: right;\">\n",
              "      <th></th>\n",
              "      <th>date</th>\n",
              "      <th>scaled_vb</th>\n",
              "    </tr>\n",
              "  </thead>\n",
              "  <tbody>\n",
              "    <tr>\n",
              "      <th>0</th>\n",
              "      <td>2024-07-23</td>\n",
              "      <td>29.982242</td>\n",
              "    </tr>\n",
              "    <tr>\n",
              "      <th>1</th>\n",
              "      <td>2024-07-24</td>\n",
              "      <td>29.982242</td>\n",
              "    </tr>\n",
              "    <tr>\n",
              "      <th>2</th>\n",
              "      <td>2024-07-25</td>\n",
              "      <td>29.982242</td>\n",
              "    </tr>\n",
              "    <tr>\n",
              "      <th>3</th>\n",
              "      <td>2024-07-26</td>\n",
              "      <td>29.982242</td>\n",
              "    </tr>\n",
              "    <tr>\n",
              "      <th>4</th>\n",
              "      <td>2024-07-29</td>\n",
              "      <td>29.982242</td>\n",
              "    </tr>\n",
              "    <tr>\n",
              "      <th>...</th>\n",
              "      <td>...</td>\n",
              "      <td>...</td>\n",
              "    </tr>\n",
              "    <tr>\n",
              "      <th>59</th>\n",
              "      <td>2024-10-15</td>\n",
              "      <td>25.337819</td>\n",
              "    </tr>\n",
              "    <tr>\n",
              "      <th>60</th>\n",
              "      <td>2024-10-16</td>\n",
              "      <td>26.651926</td>\n",
              "    </tr>\n",
              "    <tr>\n",
              "      <th>61</th>\n",
              "      <td>2024-10-17</td>\n",
              "      <td>24.634483</td>\n",
              "    </tr>\n",
              "    <tr>\n",
              "      <th>62</th>\n",
              "      <td>2024-10-18</td>\n",
              "      <td>25.048134</td>\n",
              "    </tr>\n",
              "    <tr>\n",
              "      <th>63</th>\n",
              "      <td>2024-10-21</td>\n",
              "      <td>26.649544</td>\n",
              "    </tr>\n",
              "  </tbody>\n",
              "</table>\n",
              "<p>64 rows × 2 columns</p>\n",
              "</div>"
            ],
            "text/plain": [
              "          date  scaled_vb\n",
              "0   2024-07-23  29.982242\n",
              "1   2024-07-24  29.982242\n",
              "2   2024-07-25  29.982242\n",
              "3   2024-07-26  29.982242\n",
              "4   2024-07-29  29.982242\n",
              "..         ...        ...\n",
              "59  2024-10-15  25.337819\n",
              "60  2024-10-16  26.651926\n",
              "61  2024-10-17  24.634483\n",
              "62  2024-10-18  25.048134\n",
              "63  2024-10-21  26.649544\n",
              "\n",
              "[64 rows x 2 columns]"
            ]
          },
          "execution_count": 61,
          "metadata": {},
          "output_type": "execute_result"
        }
      ],
      "source": [
        "daily_volume[['date', 'scaled_vb']]"
      ]
    },
    {
      "cell_type": "code",
      "execution_count": 62,
      "metadata": {
        "id": "sbMtFweSvZfL"
      },
      "outputs": [
        {
          "name": "stdout",
          "output_type": "stream",
          "text": [
            "Today´s Market Volume Breadth Fear and Greed Index is:  26.64954377178443\n"
          ]
        }
      ],
      "source": [
        "print('Today´s Market Volume Breadth Fear and Greed Index is: ', daily_volume.iloc[-1,-1])"
      ]
    },
    {
      "cell_type": "code",
      "execution_count": 63,
      "metadata": {
        "id": "kzP7xOz-v4_q"
      },
      "outputs": [
        {
          "data": {
            "image/png": "[encoded data removed]",
            "text/plain": [
              "<Figure size 1200x600 with 1 Axes>"
            ]
          },
          "metadata": {},
          "output_type": "display_data"
        }
      ],
      "source": [
        "sns.set(style=\"whitegrid\")\n",
        "fig, ax = plt.subplots(figsize=(12, 6))\n",
        "\n",
        "# Plot the daily mean volume breadth\n",
        "ax.plot(daily_volume['date'], daily_volume['scaled_vb'], color='blue', linewidth=2, label='Mean Volume Breadth Index')\n",
        "\n",
        "# Highlight the \"Fear\" and \"Greed\" zones\n",
        "ax.fill_between(daily_volume['date'], 0, 50, color='red', alpha=0.2, label='Fear Zone')\n",
        "ax.fill_between(daily_volume['date'], 50, 100, color='green', alpha=0.2, label='Greed Zone')\n",
        "\n",
        "# Show dates on a weekly basis\n",
        "ax.xaxis.set_major_formatter(mdates.DateFormatter('%b %d'))\n",
        "ax.xaxis.set_major_locator(mdates.WeekdayLocator(interval=1))  # Show weekly dates\n",
        "plt.xticks(rotation=45)\n",
        "\n",
        "\n",
        "plt.title(\"Daily Mean Volume Breadth Index - Fear and Greed Context\", fontsize=16, fontweight='bold')\n",
        "plt.xlabel(\"Date\", fontsize=12)\n",
        "plt.ylabel(\"Scaled Volume Breadth Index (0-100)\", fontsize=12)\n",
        "plt.grid(visible=True, linestyle='--', alpha=0.6)\n",
        "plt.legend(loc='upper left')\n",
        "plt.tight_layout()\n",
        "plt.show()"
      ]
    },
    {
      "cell_type": "markdown",
      "metadata": {
        "id": "F_ZxJqvW6Eij"
      },
      "source": [
        "# 5 - Safe Heaven Demand"
      ]
    },
    {
      "cell_type": "code",
      "execution_count": 64,
      "metadata": {
        "id": "P_VaMd5n6ERp"
      },
      "outputs": [],
      "source": [
        "df_shd_copy = history_idx30_df.copy()"
      ]
    },
    {
      "cell_type": "code",
      "execution_count": 65,
      "metadata": {
        "id": "L52k-neW6L0v"
      },
      "outputs": [],
      "source": [
        "# Identify advancing and declining stocks based on market cap\n",
        "# Calculate whether the stock is advancing or declining based on the 'market_cap'\n",
        "df_shd_copy['advancing'] = df_shd_copy.groupby('symbol')['market_cap'].diff() > 0\n",
        "df_shd_copy['declining'] = df_shd_copy.groupby('symbol')['market_cap'].diff() < 0"
      ]
    },
    {
      "cell_type": "code",
      "execution_count": 66,
      "metadata": {
        "id": "-J003bwH6PEV"
      },
      "outputs": [],
      "source": [
        "# Calculate total market cap of advancing and declining stocks for each date\n",
        "# Advancing market cap\n",
        "df_shd_copy['advancing_market_cap'] = df_shd_copy['market_cap'] * df_shd_copy['advancing']\n",
        "# Declining market cap\n",
        "df_shd_copy['declining_market_cap'] = df_shd_copy['market_cap'] * df_shd_copy['declining']"
      ]
    },
    {
      "cell_type": "code",
      "execution_count": 67,
      "metadata": {
        "id": "tNaxwTYk6yTP"
      },
      "outputs": [],
      "source": [
        "# Group by date to get total advancing and declining market caps for each day\n",
        "daily_market_cap = df_shd_copy.groupby('date').agg({\n",
        "    'advancing_market_cap': 'sum',\n",
        "    'declining_market_cap': 'sum'\n",
        "}).reset_index()"
      ]
    },
    {
      "cell_type": "code",
      "execution_count": 68,
      "metadata": {
        "id": "FNkVCkDJ64g5"
      },
      "outputs": [],
      "source": [
        "# Calculate Safe Haven Demand with zero division handling\n",
        "daily_market_cap['safe_haven_demand'] = daily_market_cap.apply(\n",
        "    lambda row: 100 - (row['advancing_market_cap'] / row['declining_market_cap'] * 100)\n",
        "                if row['declining_market_cap'] != 0 else 100,\n",
        "    axis=1\n",
        ")"
      ]
    },
    {
      "cell_type": "code",
      "execution_count": 69,
      "metadata": {
        "collapsed": true,
        "id": "NUiaEGsf68Gx"
      },
      "outputs": [
        {
          "data": {
            "text/html": [
              "<div>\n",
              "<style scoped>\n",
              "    .dataframe tbody tr th:only-of-type {\n",
              "        vertical-align: middle;\n",
              "    }\n",
              "\n",
              "    .dataframe tbody tr th {\n",
              "        vertical-align: top;\n",
              "    }\n",
              "\n",
              "    .dataframe thead th {\n",
              "        text-align: right;\n",
              "    }\n",
              "</style>\n",
              "<table border=\"1\" class=\"dataframe\">\n",
              "  <thead>\n",
              "    <tr style=\"text-align: right;\">\n",
              "      <th></th>\n",
              "      <th>date</th>\n",
              "      <th>advancing_market_cap</th>\n",
              "      <th>declining_market_cap</th>\n",
              "      <th>safe_haven_demand</th>\n",
              "    </tr>\n",
              "  </thead>\n",
              "  <tbody>\n",
              "    <tr>\n",
              "      <th>0</th>\n",
              "      <td>2024-07-23</td>\n",
              "      <td>0</td>\n",
              "      <td>0</td>\n",
              "      <td>100.000000</td>\n",
              "    </tr>\n",
              "    <tr>\n",
              "      <th>1</th>\n",
              "      <td>2024-07-24</td>\n",
              "      <td>685789155426304</td>\n",
              "      <td>3012058665713664</td>\n",
              "      <td>77.231879</td>\n",
              "    </tr>\n",
              "    <tr>\n",
              "      <th>2</th>\n",
              "      <td>2024-07-25</td>\n",
              "      <td>2241540115136512</td>\n",
              "      <td>2305083100364800</td>\n",
              "      <td>2.756646</td>\n",
              "    </tr>\n",
              "    <tr>\n",
              "      <th>3</th>\n",
              "      <td>2024-07-26</td>\n",
              "      <td>1907599365636096</td>\n",
              "      <td>2528222205968384</td>\n",
              "      <td>24.547796</td>\n",
              "    </tr>\n",
              "    <tr>\n",
              "      <th>4</th>\n",
              "      <td>2024-07-29</td>\n",
              "      <td>1931743753626324</td>\n",
              "      <td>2424338537517518</td>\n",
              "      <td>20.318729</td>\n",
              "    </tr>\n",
              "    <tr>\n",
              "      <th>...</th>\n",
              "      <td>...</td>\n",
              "      <td>...</td>\n",
              "      <td>...</td>\n",
              "      <td>...</td>\n",
              "    </tr>\n",
              "    <tr>\n",
              "      <th>59</th>\n",
              "      <td>2024-10-15</td>\n",
              "      <td>3131869826646016</td>\n",
              "      <td>1252611833462784</td>\n",
              "      <td>-150.027163</td>\n",
              "    </tr>\n",
              "    <tr>\n",
              "      <th>60</th>\n",
              "      <td>2024-10-16</td>\n",
              "      <td>3715370744545280</td>\n",
              "      <td>900961235107840</td>\n",
              "      <td>-312.378535</td>\n",
              "    </tr>\n",
              "    <tr>\n",
              "      <th>61</th>\n",
              "      <td>2024-10-17</td>\n",
              "      <td>3988555033913387</td>\n",
              "      <td>706030132295395</td>\n",
              "      <td>-464.927027</td>\n",
              "    </tr>\n",
              "    <tr>\n",
              "      <th>62</th>\n",
              "      <td>2024-10-18</td>\n",
              "      <td>4309959067041792</td>\n",
              "      <td>669298418778112</td>\n",
              "      <td>-543.951778</td>\n",
              "    </tr>\n",
              "    <tr>\n",
              "      <th>63</th>\n",
              "      <td>2024-10-21</td>\n",
              "      <td>507710900535296</td>\n",
              "      <td>1310924300353536</td>\n",
              "      <td>61.270769</td>\n",
              "    </tr>\n",
              "  </tbody>\n",
              "</table>\n",
              "<p>64 rows × 4 columns</p>\n",
              "</div>"
            ],
            "text/plain": [
              "          date  advancing_market_cap  declining_market_cap  safe_haven_demand\n",
              "0   2024-07-23                     0                     0         100.000000\n",
              "1   2024-07-24       685789155426304      3012058665713664          77.231879\n",
              "2   2024-07-25      2241540115136512      2305083100364800           2.756646\n",
              "3   2024-07-26      1907599365636096      2528222205968384          24.547796\n",
              "4   2024-07-29      1931743753626324      2424338537517518          20.318729\n",
              "..         ...                   ...                   ...                ...\n",
              "59  2024-10-15      3131869826646016      1252611833462784        -150.027163\n",
              "60  2024-10-16      3715370744545280       900961235107840        -312.378535\n",
              "61  2024-10-17      3988555033913387       706030132295395        -464.927027\n",
              "62  2024-10-18      4309959067041792       669298418778112        -543.951778\n",
              "63  2024-10-21       507710900535296      1310924300353536          61.270769\n",
              "\n",
              "[64 rows x 4 columns]"
            ]
          },
          "execution_count": 69,
          "metadata": {},
          "output_type": "execute_result"
        }
      ],
      "source": [
        "daily_market_cap"
      ]
    },
    {
      "cell_type": "code",
      "execution_count": 70,
      "metadata": {
        "id": "EsLukWrS7Kyw"
      },
      "outputs": [],
      "source": [
        "# Apply SMA (Simple Moving Average) method over 7 days\n",
        "daily_market_cap['sma_safe_haven_demand'] = daily_market_cap['safe_haven_demand'].rolling(window=7).mean()"
      ]
    },
    {
      "cell_type": "code",
      "execution_count": 71,
      "metadata": {
        "collapsed": true,
        "id": "f7xEuURT7Ole"
      },
      "outputs": [
        {
          "name": "stderr",
          "output_type": "stream",
          "text": [
            "C:\\Users\\Johann\\AppData\\Local\\Temp\\ipykernel_7544\\3327070506.py:2: FutureWarning: A value is trying to be set on a copy of a DataFrame or Series through chained assignment using an inplace method.\n",
            "The behavior will change in pandas 3.0. This inplace method will never work because the intermediate object on which we are setting values always behaves as a copy.\n",
            "\n",
            "For example, when doing 'df[col].method(value, inplace=True)', try using 'df.method({col: value}, inplace=True)' or df[col] = df[col].method(value) instead, to perform the operation inplace on the original object.\n",
            "\n",
            "\n",
            "  daily_market_cap['sma_safe_haven_demand'].replace([np.inf, -np.inf], np.nan, inplace=True)\n",
            "C:\\Users\\Johann\\AppData\\Local\\Temp\\ipykernel_7544\\3327070506.py:3: FutureWarning: A value is trying to be set on a copy of a DataFrame or Series through chained assignment using an inplace method.\n",
            "The behavior will change in pandas 3.0. This inplace method will never work because the intermediate object on which we are setting values always behaves as a copy.\n",
            "\n",
            "For example, when doing 'df[col].method(value, inplace=True)', try using 'df.method({col: value}, inplace=True)' or df[col] = df[col].method(value) instead, to perform the operation inplace on the original object.\n",
            "\n",
            "\n",
            "  daily_market_cap['sma_safe_haven_demand'].fillna(100, inplace=True)\n"
          ]
        }
      ],
      "source": [
        "# Handle NaN or infinite values, fill them with zeros or appropriate values\n",
        "daily_market_cap['sma_safe_haven_demand'].replace([np.inf, -np.inf], np.nan, inplace=True)\n",
        "daily_market_cap['sma_safe_haven_demand'].fillna(100, inplace=True)"
      ]
    },
    {
      "cell_type": "code",
      "execution_count": 72,
      "metadata": {
        "id": "FNMvWqNC7U_3"
      },
      "outputs": [],
      "source": [
        "# Scale the Safe Haven Demand between 0 and 100 for fear and greed context\n",
        "min_shd = daily_market_cap['sma_safe_haven_demand'].min()\n",
        "max_shd = daily_market_cap['sma_safe_haven_demand'].max()\n",
        "\n",
        "if max_shd - min_shd == 0:\n",
        "    daily_market_cap['scaled_safe_haven_demand'] = 0\n",
        "else:\n",
        "    daily_market_cap['scaled_safe_haven_demand'] = ((daily_market_cap['sma_safe_haven_demand'] - min_shd) / (max_shd - min_shd)) * 100"
      ]
    },
    {
      "cell_type": "code",
      "execution_count": 73,
      "metadata": {
        "id": "ZpkdjLqS7mYI"
      },
      "outputs": [],
      "source": [
        "# Replace values that reach 100 with the mean value of 'scaled_safe_haven_demand'\n",
        "mean_scaled_shd = daily_market_cap['scaled_safe_haven_demand'].mean()\n",
        "daily_market_cap['scaled_safe_haven_demand'] = daily_market_cap['scaled_safe_haven_demand'].apply(\n",
        "    lambda x: mean_scaled_shd if x == 100 else x\n",
        ")"
      ]
    },
    {
      "cell_type": "code",
      "execution_count": 74,
      "metadata": {
        "id": "uiT5B76Q7W9w"
      },
      "outputs": [
        {
          "data": {
            "text/html": [
              "<div>\n",
              "<style scoped>\n",
              "    .dataframe tbody tr th:only-of-type {\n",
              "        vertical-align: middle;\n",
              "    }\n",
              "\n",
              "    .dataframe tbody tr th {\n",
              "        vertical-align: top;\n",
              "    }\n",
              "\n",
              "    .dataframe thead th {\n",
              "        text-align: right;\n",
              "    }\n",
              "</style>\n",
              "<table border=\"1\" class=\"dataframe\">\n",
              "  <thead>\n",
              "    <tr style=\"text-align: right;\">\n",
              "      <th></th>\n",
              "      <th>date</th>\n",
              "      <th>scaled_safe_haven_demand</th>\n",
              "    </tr>\n",
              "  </thead>\n",
              "  <tbody>\n",
              "    <tr>\n",
              "      <th>0</th>\n",
              "      <td>2024-07-23</td>\n",
              "      <td>47.766013</td>\n",
              "    </tr>\n",
              "    <tr>\n",
              "      <th>1</th>\n",
              "      <td>2024-07-24</td>\n",
              "      <td>47.766013</td>\n",
              "    </tr>\n",
              "    <tr>\n",
              "      <th>2</th>\n",
              "      <td>2024-07-25</td>\n",
              "      <td>47.766013</td>\n",
              "    </tr>\n",
              "    <tr>\n",
              "      <th>3</th>\n",
              "      <td>2024-07-26</td>\n",
              "      <td>47.766013</td>\n",
              "    </tr>\n",
              "    <tr>\n",
              "      <th>4</th>\n",
              "      <td>2024-07-29</td>\n",
              "      <td>47.766013</td>\n",
              "    </tr>\n",
              "    <tr>\n",
              "      <th>...</th>\n",
              "      <td>...</td>\n",
              "      <td>...</td>\n",
              "    </tr>\n",
              "    <tr>\n",
              "      <th>59</th>\n",
              "      <td>2024-10-15</td>\n",
              "      <td>49.610233</td>\n",
              "    </tr>\n",
              "    <tr>\n",
              "      <th>60</th>\n",
              "      <td>2024-10-16</td>\n",
              "      <td>40.791631</td>\n",
              "    </tr>\n",
              "    <tr>\n",
              "      <th>61</th>\n",
              "      <td>2024-10-17</td>\n",
              "      <td>35.845767</td>\n",
              "    </tr>\n",
              "    <tr>\n",
              "      <th>62</th>\n",
              "      <td>2024-10-18</td>\n",
              "      <td>16.944089</td>\n",
              "    </tr>\n",
              "    <tr>\n",
              "      <th>63</th>\n",
              "      <td>2024-10-21</td>\n",
              "      <td>21.549546</td>\n",
              "    </tr>\n",
              "  </tbody>\n",
              "</table>\n",
              "<p>64 rows × 2 columns</p>\n",
              "</div>"
            ],
            "text/plain": [
              "          date  scaled_safe_haven_demand\n",
              "0   2024-07-23                 47.766013\n",
              "1   2024-07-24                 47.766013\n",
              "2   2024-07-25                 47.766013\n",
              "3   2024-07-26                 47.766013\n",
              "4   2024-07-29                 47.766013\n",
              "..         ...                       ...\n",
              "59  2024-10-15                 49.610233\n",
              "60  2024-10-16                 40.791631\n",
              "61  2024-10-17                 35.845767\n",
              "62  2024-10-18                 16.944089\n",
              "63  2024-10-21                 21.549546\n",
              "\n",
              "[64 rows x 2 columns]"
            ]
          },
          "execution_count": 74,
          "metadata": {},
          "output_type": "execute_result"
        }
      ],
      "source": [
        "daily_market_cap[['date', 'scaled_safe_haven_demand']]"
      ]
    },
    {
      "cell_type": "code",
      "execution_count": 75,
      "metadata": {
        "id": "ZZFLup1v7pJf"
      },
      "outputs": [
        {
          "name": "stdout",
          "output_type": "stream",
          "text": [
            "Today´s Safe Heaven Demand Fear and Greed index is:  21.549546233083923\n"
          ]
        }
      ],
      "source": [
        "print('Today´s Safe Heaven Demand Fear and Greed index is: ', daily_market_cap.iloc[-1, -1])"
      ]
    },
    {
      "cell_type": "code",
      "execution_count": 76,
      "metadata": {
        "id": "WujrHdLR70TT"
      },
      "outputs": [
        {
          "data": {
            "image/png": "[encoded data removed]",
            "text/plain": [
              "<Figure size 1200x600 with 1 Axes>"
            ]
          },
          "metadata": {},
          "output_type": "display_data"
        }
      ],
      "source": [
        "sns.set(style=\"whitegrid\")\n",
        "fig, ax = plt.subplots(figsize=(12, 6))\n",
        "\n",
        "# Plot the scaled Safe Haven Demand over time\n",
        "ax.plot(daily_market_cap['date'], daily_market_cap['scaled_safe_haven_demand'], color='blue', linewidth=2, label='Safe Haven Demand')\n",
        "\n",
        "# Highlight the \"Fear\" and \"Greed\" zones\n",
        "ax.fill_between(daily_market_cap['date'], 0, 50, color='red', alpha=0.2, label='Fear Zone')\n",
        "ax.fill_between(daily_market_cap['date'], 50, 100, color='green', alpha=0.2, label='Greed Zone')\n",
        "\n",
        "# Set x-axis to show dates on a weekly basis\n",
        "ax.xaxis.set_major_formatter(mdates.DateFormatter('%b %d'))\n",
        "ax.xaxis.set_major_locator(mdates.WeekdayLocator(interval=1))  # Show dates on a weekly basis\n",
        "plt.xticks(rotation=45)\n",
        "\n",
        "\n",
        "plt.title(\"Safe Haven Demand Index - Fear and Greed Context\", fontsize=16, fontweight='bold')\n",
        "plt.xlabel(\"Date\", fontsize=12)\n",
        "plt.ylabel(\"Scaled Safe Haven Demand (0-100)\", fontsize=12)\n",
        "plt.grid(visible=True, linestyle='--', alpha=0.6)\n",
        "plt.legend(loc='upper left')\n",
        "plt.tight_layout()\n",
        "plt.show()"
      ]
    },
    {
      "cell_type": "markdown",
      "metadata": {
        "id": "cblmhhBSgt90"
      },
      "source": [
        "# 12 - The Buffett Indicator"
      ]
    },
    {
      "cell_type": "markdown",
      "metadata": {
        "id": "ofHM7-yXelkL"
      },
      "source": [
        "The buffett Indicator is Indonesian total nominal GDP divided Indonesian's total stock market value.\n",
        "\n",
        "Indonesian's total GDP in year 2024 is $1.47 trillion (nominal; 2024 est.) - Source from Wikipedia."
      ]
    },
    {
      "cell_type": "code",
      "execution_count": 78,
      "metadata": {
        "id": "fIbyhnMaj27C"
      },
      "outputs": [
        {
          "data": {
            "text/html": [
              "<div>\n",
              "<style scoped>\n",
              "    .dataframe tbody tr th:only-of-type {\n",
              "        vertical-align: middle;\n",
              "    }\n",
              "\n",
              "    .dataframe tbody tr th {\n",
              "        vertical-align: top;\n",
              "    }\n",
              "\n",
              "    .dataframe thead th {\n",
              "        text-align: right;\n",
              "    }\n",
              "</style>\n",
              "<table border=\"1\" class=\"dataframe\">\n",
              "  <thead>\n",
              "    <tr style=\"text-align: right;\">\n",
              "      <th></th>\n",
              "      <th>date</th>\n",
              "      <th>idx_total_market_cap</th>\n",
              "    </tr>\n",
              "  </thead>\n",
              "  <tbody>\n",
              "    <tr>\n",
              "      <th>0</th>\n",
              "      <td>2024-07-23</td>\n",
              "      <td>12328150157278341</td>\n",
              "    </tr>\n",
              "    <tr>\n",
              "      <th>1</th>\n",
              "      <td>2024-07-24</td>\n",
              "      <td>12273456841099059</td>\n",
              "    </tr>\n",
              "    <tr>\n",
              "      <th>2</th>\n",
              "      <td>2024-07-25</td>\n",
              "      <td>12208073973540205</td>\n",
              "    </tr>\n",
              "    <tr>\n",
              "      <th>3</th>\n",
              "      <td>2024-07-26</td>\n",
              "      <td>12299299470116717</td>\n",
              "    </tr>\n",
              "    <tr>\n",
              "      <th>4</th>\n",
              "      <td>2024-07-29</td>\n",
              "      <td>12316013076207233</td>\n",
              "    </tr>\n",
              "    <tr>\n",
              "      <th>...</th>\n",
              "      <td>...</td>\n",
              "      <td>...</td>\n",
              "    </tr>\n",
              "    <tr>\n",
              "      <th>59</th>\n",
              "      <td>2024-10-15</td>\n",
              "      <td>12637110240060057</td>\n",
              "    </tr>\n",
              "    <tr>\n",
              "      <th>60</th>\n",
              "      <td>2024-10-16</td>\n",
              "      <td>12725585259557529</td>\n",
              "    </tr>\n",
              "    <tr>\n",
              "      <th>61</th>\n",
              "      <td>2024-10-17</td>\n",
              "      <td>12885138900977256</td>\n",
              "    </tr>\n",
              "    <tr>\n",
              "      <th>62</th>\n",
              "      <td>2024-10-18</td>\n",
              "      <td>13091802115745433</td>\n",
              "    </tr>\n",
              "    <tr>\n",
              "      <th>63</th>\n",
              "      <td>2024-10-21</td>\n",
              "      <td>6997503230132224</td>\n",
              "    </tr>\n",
              "  </tbody>\n",
              "</table>\n",
              "<p>64 rows × 2 columns</p>\n",
              "</div>"
            ],
            "text/plain": [
              "          date  idx_total_market_cap\n",
              "0   2024-07-23     12328150157278341\n",
              "1   2024-07-24     12273456841099059\n",
              "2   2024-07-25     12208073973540205\n",
              "3   2024-07-26     12299299470116717\n",
              "4   2024-07-29     12316013076207233\n",
              "..         ...                   ...\n",
              "59  2024-10-15     12637110240060057\n",
              "60  2024-10-16     12725585259557529\n",
              "61  2024-10-17     12885138900977256\n",
              "62  2024-10-18     13091802115745433\n",
              "63  2024-10-21      6997503230132224\n",
              "\n",
              "[64 rows x 2 columns]"
            ]
          },
          "execution_count": 78,
          "metadata": {},
          "output_type": "execute_result"
        }
      ],
      "source": [
        "market_cap_df"
      ]
    },
    {
      "cell_type": "code",
      "execution_count": 79,
      "metadata": {
        "id": "mF-ZgJpClUPc"
      },
      "outputs": [],
      "source": [
        "# Indonesian GDP for 2024 in Indonesian Rupiah (IDR)\n",
        "# Using an approximate exchange rate: 1 USD = 15,000 IDR\n",
        "usd_to_idr_exchange_rate = 15000\n",
        "indonesia_gdp_idr = 1.47 * 10**12 * usd_to_idr_exchange_rate  # 1.47 trillion USD to IDR"
      ]
    },
    {
      "cell_type": "code",
      "execution_count": 81,
      "metadata": {
        "collapsed": true,
        "id": "FTVket_FmD_O"
      },
      "outputs": [],
      "source": [
        "market_cap_df['buffett_indicator'] = (market_cap_df['idx_total_market_cap'] / indonesia_gdp_idr) * 100"
      ]
    },
    {
      "cell_type": "code",
      "execution_count": 82,
      "metadata": {
        "id": "dl1GVA6nmUp5"
      },
      "outputs": [],
      "source": [
        "# Drop rows with NaN values in the 'scaled_buffett_indicator' column\n",
        "market_cap_df = market_cap_df.dropna(subset=['buffett_indicator'])"
      ]
    },
    {
      "cell_type": "code",
      "execution_count": 83,
      "metadata": {
        "id": "r4lPHtxmmW9_"
      },
      "outputs": [
        {
          "data": {
            "text/html": [
              "<div>\n",
              "<style scoped>\n",
              "    .dataframe tbody tr th:only-of-type {\n",
              "        vertical-align: middle;\n",
              "    }\n",
              "\n",
              "    .dataframe tbody tr th {\n",
              "        vertical-align: top;\n",
              "    }\n",
              "\n",
              "    .dataframe thead th {\n",
              "        text-align: right;\n",
              "    }\n",
              "</style>\n",
              "<table border=\"1\" class=\"dataframe\">\n",
              "  <thead>\n",
              "    <tr style=\"text-align: right;\">\n",
              "      <th></th>\n",
              "      <th>date</th>\n",
              "      <th>idx_total_market_cap</th>\n",
              "      <th>buffett_indicator</th>\n",
              "    </tr>\n",
              "  </thead>\n",
              "  <tbody>\n",
              "    <tr>\n",
              "      <th>0</th>\n",
              "      <td>2024-07-23</td>\n",
              "      <td>12328150157278341</td>\n",
              "      <td>55.909978</td>\n",
              "    </tr>\n",
              "    <tr>\n",
              "      <th>1</th>\n",
              "      <td>2024-07-24</td>\n",
              "      <td>12273456841099059</td>\n",
              "      <td>55.661936</td>\n",
              "    </tr>\n",
              "    <tr>\n",
              "      <th>2</th>\n",
              "      <td>2024-07-25</td>\n",
              "      <td>12208073973540205</td>\n",
              "      <td>55.365415</td>\n",
              "    </tr>\n",
              "    <tr>\n",
              "      <th>3</th>\n",
              "      <td>2024-07-26</td>\n",
              "      <td>12299299470116717</td>\n",
              "      <td>55.779136</td>\n",
              "    </tr>\n",
              "    <tr>\n",
              "      <th>4</th>\n",
              "      <td>2024-07-29</td>\n",
              "      <td>12316013076207233</td>\n",
              "      <td>55.854935</td>\n",
              "    </tr>\n",
              "    <tr>\n",
              "      <th>...</th>\n",
              "      <td>...</td>\n",
              "      <td>...</td>\n",
              "      <td>...</td>\n",
              "    </tr>\n",
              "    <tr>\n",
              "      <th>59</th>\n",
              "      <td>2024-10-15</td>\n",
              "      <td>12637110240060057</td>\n",
              "      <td>57.311158</td>\n",
              "    </tr>\n",
              "    <tr>\n",
              "      <th>60</th>\n",
              "      <td>2024-10-16</td>\n",
              "      <td>12725585259557529</td>\n",
              "      <td>57.712405</td>\n",
              "    </tr>\n",
              "    <tr>\n",
              "      <th>61</th>\n",
              "      <td>2024-10-17</td>\n",
              "      <td>12885138900977256</td>\n",
              "      <td>58.436004</td>\n",
              "    </tr>\n",
              "    <tr>\n",
              "      <th>62</th>\n",
              "      <td>2024-10-18</td>\n",
              "      <td>13091802115745433</td>\n",
              "      <td>59.373252</td>\n",
              "    </tr>\n",
              "    <tr>\n",
              "      <th>63</th>\n",
              "      <td>2024-10-21</td>\n",
              "      <td>6997503230132224</td>\n",
              "      <td>31.734709</td>\n",
              "    </tr>\n",
              "  </tbody>\n",
              "</table>\n",
              "<p>64 rows × 3 columns</p>\n",
              "</div>"
            ],
            "text/plain": [
              "          date  idx_total_market_cap  buffett_indicator\n",
              "0   2024-07-23     12328150157278341          55.909978\n",
              "1   2024-07-24     12273456841099059          55.661936\n",
              "2   2024-07-25     12208073973540205          55.365415\n",
              "3   2024-07-26     12299299470116717          55.779136\n",
              "4   2024-07-29     12316013076207233          55.854935\n",
              "..         ...                   ...                ...\n",
              "59  2024-10-15     12637110240060057          57.311158\n",
              "60  2024-10-16     12725585259557529          57.712405\n",
              "61  2024-10-17     12885138900977256          58.436004\n",
              "62  2024-10-18     13091802115745433          59.373252\n",
              "63  2024-10-21      6997503230132224          31.734709\n",
              "\n",
              "[64 rows x 3 columns]"
            ]
          },
          "execution_count": 83,
          "metadata": {},
          "output_type": "execute_result"
        }
      ],
      "source": [
        "market_cap_df"
      ]
    },
    {
      "cell_type": "code",
      "execution_count": 84,
      "metadata": {
        "id": "Z7oMkI7smaIb"
      },
      "outputs": [
        {
          "name": "stdout",
          "output_type": "stream",
          "text": [
            "Today´s Buffett Indicator Fear and Greed index is:  31.73470852667675\n"
          ]
        }
      ],
      "source": [
        "print('Today´s Buffett Indicator Fear and Greed index is: ', market_cap_df.iloc[-1,-1])"
      ]
    },
    {
      "cell_type": "code",
      "execution_count": 85,
      "metadata": {
        "id": "4vuy_LJInyJO"
      },
      "outputs": [
        {
          "data": {
            "image/png": "[encoded data removed]",
            "text/plain": [
              "<Figure size 1200x600 with 1 Axes>"
            ]
          },
          "metadata": {},
          "output_type": "display_data"
        }
      ],
      "source": [
        "sns.set(style=\"whitegrid\")\n",
        "fig, ax = plt.subplots(figsize=(12, 6))\n",
        "\n",
        "# Plot the Buffett Indicator over time\n",
        "ax.plot(market_cap_df['date'], market_cap_df['buffett_indicator'], color='blue', linewidth=2, label='Buffett Indicator')\n",
        "\n",
        "# Highlight Fear and Greed zones (Assuming > 50 is Greed and < 50 is Fear for demonstration)\n",
        "ax.fill_between(market_cap_df['date'], 0, 50, color='red', alpha=0.2, label='Fear Zone')\n",
        "ax.fill_between(market_cap_df['date'], 50, 100, color='green', alpha=0.2, label='Greed Zone')\n",
        "\n",
        "# Set x-axis to show dates on a weekly basis\n",
        "ax.xaxis.set_major_formatter(mdates.DateFormatter('%b %d'))\n",
        "ax.xaxis.set_major_locator(mdates.WeekdayLocator(interval=1))  # Set dates to show weekly\n",
        "plt.xticks(rotation=45)\n",
        "\n",
        "# Adding labels and title\n",
        "plt.title(\"Buffett Indicator Over Time - Fear and Greed Context\", fontsize=16, fontweight='bold')\n",
        "plt.xlabel(\"Date\", fontsize=12)\n",
        "plt.ylabel(\"Buffett Indicator (%)\", fontsize=12)\n",
        "plt.grid(visible=True, linestyle='--', alpha=0.6)\n",
        "plt.legend(loc='upper left')\n",
        "plt.tight_layout()\n",
        "plt.show()"
      ]
    },
    {
      "cell_type": "code",
      "execution_count": null,
      "metadata": {
        "id": "l6xzO7mBqyuC"
      },
      "outputs": [],
      "source": []
    }
  ],
  "metadata": {
    "colab": {
      "provenance": [],
      "toc_visible": true
    },
    "kernelspec": {
      "display_name": ".venv",
      "language": "python",
      "name": "python3"
    },
    "language_info": {
      "codemirror_mode": {
        "name": "ipython",
        "version": 3
      },
      "file_extension": ".py",
      "mimetype": "text/x-python",
      "name": "python",
      "nbconvert_exporter": "python",
      "pygments_lexer": "ipython3",
      "version": "3.12.2"
    }
  },
  "nbformat": 4,
  "nbformat_minor": 0
}
